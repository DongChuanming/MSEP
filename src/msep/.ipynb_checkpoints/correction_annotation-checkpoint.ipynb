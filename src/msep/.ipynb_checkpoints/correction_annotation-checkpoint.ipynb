{
 "cells": [
  {
   "cell_type": "code",
   "execution_count": 254,
   "id": "e774cef3-c12b-4f64-af72-8e8690e456b2",
   "metadata": {},
   "outputs": [],
   "source": [
    "r1=\"./result/cardia_learn_1.jsonl\"\n",
    "r2=\"./result/cardia_learn_2.jsonl\"\n",
    "r3=\"./result/cardia_comp.jsonl\"\n",
    "r4=\"./result/cardia_test_1.jsonl\"\n",
    "r5=\"./result/cardia_test_2.jsonl\"\n",
    "r6=\"./result/cardia_inter1.jsonl\"\n",
    "r7=\"./result/cardia_inter2.jsonl\"\n",
    "r8=\"./result/cardia_corrige.jsonl\"\n",
    "\n",
    "lr1=list()\n",
    "import json \n",
    "\n",
    "with open(r1, \"r\", encoding=\"utf-8\") as t2:\n",
    "    listdic = t2.readlines()\n",
    "for i in listdic:\n",
    "    lr1.append(json.loads(i))\n",
    "\n",
    "    \n",
    "lr2=list()\n",
    "import json \n",
    "\n",
    "with open(r2, \"r\", encoding=\"utf-8\") as t2:\n",
    "    listdic = t2.readlines()\n",
    "for i in listdic:\n",
    "    lr2.append(json.loads(i))\n",
    "\n",
    "\n",
    "lr3=list()\n",
    "import json \n",
    "\n",
    "with open(r3, \"r\", encoding=\"utf-8\") as t3:\n",
    "    listdic = t3.readlines()\n",
    "for i in listdic:\n",
    "    lr3.append(json.loads(i))\n",
    "   \n",
    "\n",
    "lr4=list()\n",
    "import json \n",
    "\n",
    "with open(r4, \"r\", encoding=\"utf-8\") as t4:\n",
    "    listdic = t4.readlines()\n",
    "for i in listdic:\n",
    "    lr4.append(json.loads(i))\n",
    "\n",
    "\n",
    "lr5=list()\n",
    "import json \n",
    "\n",
    "with open(r5, \"r\", encoding=\"utf-8\") as t5:\n",
    "    listdic = t5.readlines()\n",
    "for i in listdic:\n",
    "    lr5.append(json.loads(i))\n",
    "\n",
    "\n",
    "lr6=list()\n",
    "import json \n",
    "\n",
    "with open(r6, \"r\", encoding=\"utf-8\") as t6:\n",
    "    listdic = t6.readlines()\n",
    "for i in listdic:\n",
    "    lr6.append(json.loads(i))\n",
    "\n",
    "lr7=list()\n",
    "import json \n",
    "\n",
    "with open(r7, \"r\", encoding=\"utf-8\") as t7:\n",
    "    listdic = t7.readlines()\n",
    "for i in listdic:\n",
    "    lr7.append(json.loads(i))\n",
    "    \n",
    "lr8=list()\n",
    "import json \n",
    "\n",
    "with open(r8, \"r\", encoding=\"utf-8\") as t8:\n",
    "    listdic = t8.readlines()\n",
    "for i in listdic:\n",
    "    lr8.append(json.loads(i))"
   ]
  },
  {
   "cell_type": "code",
   "execution_count": null,
   "id": "d8982d05-d52c-4e90-8300-513ac56df335",
   "metadata": {},
   "outputs": [],
   "source": []
  },
  {
   "cell_type": "code",
   "execution_count": 27,
   "id": "dc9d1acc-d8a3-4ccd-a0be-5cd1810ceab7",
   "metadata": {},
   "outputs": [],
   "source": [
    "lr1=list()\n",
    "import json \n",
    "\n",
    "with open(r2, \"r\", encoding=\"utf-8\") as t2:\n",
    "    listdic = t2.readlines()\n",
    "for i in listdic:\n",
    "    lr1.append(json.loads(i))\n",
    "    \n",
    "lr2=list()\n",
    "import json \n",
    "\n",
    "with open(r6, \"r\", encoding=\"utf-8\") as t2:\n",
    "    listdic = t2.readlines()\n",
    "for i in listdic:\n",
    "    lr2.append(json.loads(i))  "
   ]
  },
  {
   "cell_type": "code",
   "execution_count": 33,
   "id": "99b0f955-9653-4fee-8e7b-972c49579a51",
   "metadata": {
    "scrolled": true,
    "tags": []
   },
   "outputs": [
    {
     "name": "stdout",
     "output_type": "stream",
     "text": [
      "142198152-5645\n",
      "Je vois en hôpital de jour d'oncologie Monsieur Gallé pour la réalisation de C4 J8 Carboplatine Gemzar. Depuis la semaine dernière, pas de signe infectieux intercurrent bonne tolérance de la chimiothérapie, pas de nausée ni de vomissement, pas de trouble du transit PS 1, poids stable pas de douleur DONNEES CLINIQUES Bruits du cœur sont réguliers, pas de signe d'insuffisance cardiaque ni de TVP murmure vésiculaire symétrique, pas de bruit surajouté abdomen souple, dépressible et indolore, bruits hydroaériques\n",
      "[]\n",
      "['9']\n",
      "\n",
      "\n",
      "\n",
      "101593433-301\n",
      "Abdo : EVA ressenti à 8/10 souple, dépressible, indolore, douleurs à la percussion de la fosse lombaire gauche, pas de SFU, pas d'irradiation de la douleur. Pas de syndrome occlusif : BHA ++, pas de nausée, aps de vomissement, constipation isolée Cardio : bdc régulier, absence de souffle, absence de signe droit ou gauche, absence de signe de TVP Pneumo : MV bilat et symétrique, absence de bruit surajouté\n",
      "[]\n",
      "['9']\n",
      "\n",
      "\n",
      "\n",
      "64950038-1726\n",
      "CLINIQUE neuro: Glasgow 15 légèrement obnubilé et désorienté syndrome pyramidal total de l'hémicorps G avec paralysie faciale homolatérale cardio: BDC réguliers sans souffle pas de signes d'insuffisance cardiaque pouls périph: radial et pédieux perçus, tibial post non perçu. pneumo: eupnéique au repos, pas de toux sat 97% sous 2l/min => diminué à\n",
      "[]\n",
      "['9']\n",
      "\n",
      "\n",
      "\n",
      "51299420-11239\n",
      ": BDC normaux et réguliers, pas de souffle, pas de signes d'IVD ni d'IVG, pas de signes de phlébite, pas de SF cardio\n",
      "[]\n",
      "['9']\n",
      "\n",
      "\n",
      "\n",
      "68757777-331\n",
      "Intensité 3/6, PAs d'abolition du B2 -Pas de signes d'IC D (pas de TJ, pas d'HSM, pas d'OMI) ni G (pas de tachycardie, pas de dyspnée)\n",
      "['9']\n",
      "[]\n",
      "\n",
      "\n",
      "\n",
      "115125676-1667\n",
      "cardiaque 113057 FORMCDA:QINF FORMCDA:QR 201906191909 95 95 6 Saturation capillaire 113067 FORMCDA:QINF FORMCDA:QR 201906191909\n",
      "[]\n",
      "['10']\n",
      "\n",
      "\n",
      "\n",
      "184268061-2838\n",
      "cardiaque 113059 FORMCDA:QINF FORMCDA:QR 202201142233\n",
      "[]\n",
      "['10']\n",
      "\n",
      "\n",
      "\n",
      "61377775-14373\n",
      "Bilan en Unité de soins intensif de cardiologie (hospit du 23 au 30 avril 2013): 1 coronarographie: lésion monotronculaire avec occlusion de l'artère coronaire distale droite avec succès primaire de reperfusion de l'artère coronaire droite distale avec thromectomie seule 2 ETO : pas de thrombus, pas d'anomalie SIA, pas de plaque aortique 3 echodoppler TSA normale 4 bilan de thrombophilie en attente Oui pas de SF cardiovasc: pas de douleur thoracique , BDC irrégulier (aryhmie sinusale à l'ECG), pas de décompensation cardiaque droite ou gauche, mollets souples, pouls périphériques peçus pas de souffle sur trajet artériel pas de sibillant dans les 2 CP neuro : hémiparésie Gauche maximale au niveau du membre supérieur, légère asymétrie céphalique, force de préhension coté à 1 pourla main à 2 pour le reste du membre supérieur, FM cotée à 4 au niveau du MI distal à 3 + au niveau proximal. abdomen souple non douloureux.\n",
      "[]\n",
      "['9']\n",
      "\n",
      "\n",
      "\n",
      "146830004-1499\n",
      "cardiaque 105588 FORMCDA:QINF FORMCDA:QR 202011131425\n",
      "[]\n",
      "['10']\n",
      "\n",
      "\n",
      "\n",
      "126559924-3659\n",
      "cardiaque 112987 FORMCDA:QINF FORMCDA:QR 201911290206 95 95 6 Saturation capillaire 112994 FORMCDA:QINF FORMCDA:QR 201911290206\n",
      "[]\n",
      "['10']\n",
      "\n",
      "\n",
      "\n"
     ]
    }
   ],
   "source": [
    "c=0\n",
    "for d1 in lr1:\n",
    "    for d2 in lr5:\n",
    "        if d1[\"text\"]==d2[\"text\"]:\n",
    "            if d1[\"meta\"][\"ID_ENTREPOT\"]==d2[\"meta\"][\"ID_ENTREPOT\"]:\n",
    "                if d1[\"meta\"][\"CODE_LINE\"]==d2[\"meta\"][\"CODE_LINE\"]:\n",
    "                    if d1['accept']!=d2[\"accept\"]:\n",
    "                        c+=1\n",
    "                        print(d1[\"meta\"][\"ID_ENTREPOT\"]+\"-\"+str(d1[\"meta\"][\"CODE_LINE\"]))\n",
    "                        print(d1[\"text\"])\n",
    "                        print(d1[\"accept\"])\n",
    "                        print(d2[\"accept\"])\n",
    "                        print(\"\\n\\n\")"
   ]
  },
  {
   "cell_type": "code",
   "execution_count": 217,
   "id": "6288bf5f-cdef-494e-b05c-dc4b5d56cc79",
   "metadata": {},
   "outputs": [],
   "source": [
    "ajout=[\"ic\", \"ivd\", \"ivg\", \"decompensation cardiaque\", \"decompensation cardiaque globale\", \"dc\", \"absence cardiaque\", \"decompensation cardique\", \"ivg/ivd\", \"icd\", \"icg\", \"insuffisance cardiaque\", \"insuffisance cardique\", \"dysfonction bi ventriculaire\"] #manquant dans r1, r4, r5 \n",
    "\n",
    "supprime=[\"im\", \"insuffisance aortique\",\"insuffisance mitrale\", \"paralysie oculomotrice\",\"fibrillation atriale\",\"ostium secundum\", \"saturation capillaire\", \"bruits du coeur reguliers\", \"bdc regulier\", \"bdc reguliers\", \"probleme cardiaque\"] #\"Retour salle cardio\", \"échographie cardiaque\"]  #à supprimer dans r2, r4,r5"
   ]
  },
  {
   "cell_type": "code",
   "execution_count": null,
   "id": "143a70f8-5262-40ec-840d-85046087410c",
   "metadata": {},
   "outputs": [],
   "source": []
  },
  {
   "cell_type": "code",
   "execution_count": null,
   "id": "38a70751-f209-432b-987e-7bc3345af85d",
   "metadata": {},
   "outputs": [],
   "source": []
  },
  {
   "cell_type": "code",
   "execution_count": null,
   "id": "9a2209f8-d5f9-4274-b8af-c7f63123bc0c",
   "metadata": {},
   "outputs": [],
   "source": []
  },
  {
   "cell_type": "code",
   "execution_count": null,
   "id": "80fe1e5d-247a-491c-8b0e-060f30d1f8b2",
   "metadata": {},
   "outputs": [],
   "source": [
    "# pour les phrases accordée par les annotateurs, enregistrées directement\n",
    "# pour les phrases qui ont reçu un label d'un annotateur, et pas de label de l'autre annotateur, chercher d'abord le mot clé dans la liste de présence, si oui, prendre le label\n",
    "# si il n'y a pas de mot clé dans la première liste trouvé, chercher dans la deuxième liste, s'il y en a, cette phrase reçoit pas de label\n",
    "# si pas de mots clé dans les deux listes trouvé dans la phrase, print la phrase pour décider le label manuellement\n",
    "# pour les phrase qui ont reçu deux labels différent, print la phrase pour décider le label manuellement\n",
    "# pour les phrase qui ne sont pas lu pas deux personnes, si elles ont reçu de label, print le pour décider le label; si non, chercher les mots-clés d'abord et print le pour décider le label"
   ]
  },
  {
   "cell_type": "code",
   "execution_count": null,
   "id": "ac6de4d4-9c12-4241-8e80-c86417b93811",
   "metadata": {},
   "outputs": [],
   "source": [
    "#Insuffisance cardiaque aigue quand ?\n",
    "#Insuffisance cardiaque ?"
   ]
  },
  {
   "cell_type": "code",
   "execution_count": null,
   "id": "e29b94c2-bab9-4e8c-8c7d-1a8433a163cf",
   "metadata": {},
   "outputs": [],
   "source": []
  },
  {
   "cell_type": "code",
   "execution_count": null,
   "id": "60749def-dd68-41d3-813b-6664bc8858ce",
   "metadata": {},
   "outputs": [],
   "source": []
  },
  {
   "cell_type": "code",
   "execution_count": 34,
   "id": "a047775f-6a81-4878-8abf-0cfc8f3fe2f5",
   "metadata": {
    "scrolled": true,
    "tags": []
   },
   "outputs": [],
   "source": [
    "ldoc1=[lr1,lr4,lr6]\n",
    "ldoc2=[lr2,lr5,lr7]\n",
    "\n",
    "rec=set()\n",
    "annotated=list()\n",
    "compa=list()\n",
    "\n",
    "for i1 in range(len(ldoc1)):\n",
    "    for i2 in range(len(ldoc2)):\n",
    "        if {i1,i2} not in compa:\n",
    "            compa+=[{i1,i2},{i2,i1}]\n",
    "            doc1=ldoc1[i1]\n",
    "            doc2=ldoc2[i2]\n",
    "            if doc1!=doc2:\n",
    "                c=0\n",
    "                for d1 in doc1:\n",
    "                    for d2 in doc2:\n",
    "                        id1=d1[\"meta\"][\"ID_ENTREPOT\"]+str(d1[\"meta\"][\"CODE_LINE\"])\n",
    "                        id2=d2[\"meta\"][\"ID_ENTREPOT\"]+str(d2[\"meta\"][\"CODE_LINE\"])\n",
    "\n",
    "                        if d1[\"text\"]==d2[\"text\"]:\n",
    "                            if id1==id2:\n",
    "                                #d1[\"meta\"][\"ID_ENTREPOT\"]==d2[\"meta\"][\"ID_ENTREPOT\"]:\n",
    "                                #if d1[\"meta\"][\"CODE_LINE\"]==d2[\"meta\"][\"CODE_LINE\"]:\n",
    "                                if d1['accept']==d2[\"accept\"]:\n",
    "                                    if id1 not in rec:\n",
    "                                        rec.add(id1)\n",
    "                                        annotated.append(d1)\n",
    "                                    #c+=1\n",
    "                                    #print(d1[\"text\"])\n",
    "                                    #print(d1[\"accept\"])\n",
    "                                    #print(d2[\"accept\"])\n",
    "                                    #print(\"\\n\\n\")"
   ]
  },
  {
   "cell_type": "code",
   "execution_count": 5,
   "id": "0c1a3627-0da0-4c9c-ab0c-0a4d07157ae1",
   "metadata": {},
   "outputs": [
    {
     "data": {
      "text/plain": [
       "True"
      ]
     },
     "execution_count": 5,
     "metadata": {},
     "output_type": "execute_result"
    }
   ],
   "source": [
    "{1,2}=={2,1}"
   ]
  },
  {
   "cell_type": "code",
   "execution_count": 35,
   "id": "c9e0eb0a-e3d3-4de8-aba0-ec9c2f7775f5",
   "metadata": {},
   "outputs": [
    {
     "data": {
      "text/plain": [
       "1735"
      ]
     },
     "execution_count": 35,
     "metadata": {},
     "output_type": "execute_result"
    }
   ],
   "source": [
    "len(annotated)"
   ]
  },
  {
   "cell_type": "code",
   "execution_count": 36,
   "id": "74f7df3a-9994-43fd-8848-bebd0fe59a89",
   "metadata": {},
   "outputs": [
    {
     "data": {
      "text/plain": [
       "1735"
      ]
     },
     "execution_count": 36,
     "metadata": {},
     "output_type": "execute_result"
    }
   ],
   "source": [
    "len(rec)"
   ]
  },
  {
   "cell_type": "code",
   "execution_count": 14,
   "id": "69193da7-74d4-48c5-9913-1cf98c187203",
   "metadata": {},
   "outputs": [
    {
     "name": "stdout",
     "output_type": "stream",
     "text": [
      "{0}\n",
      "{0, 1}\n"
     ]
    },
    {
     "ename": "KeyboardInterrupt",
     "evalue": "",
     "output_type": "error",
     "traceback": [
      "\u001b[0;31m---------------------------------------------------------------------------\u001b[0m",
      "\u001b[0;31mKeyboardInterrupt\u001b[0m                         Traceback (most recent call last)",
      "Cell \u001b[0;32mIn[14], line 24\u001b[0m\n\u001b[1;32m     19\u001b[0m id1\u001b[38;5;241m=\u001b[39md1[\u001b[38;5;124m\"\u001b[39m\u001b[38;5;124mmeta\u001b[39m\u001b[38;5;124m\"\u001b[39m][\u001b[38;5;124m\"\u001b[39m\u001b[38;5;124mID_ENTREPOT\u001b[39m\u001b[38;5;124m\"\u001b[39m]\u001b[38;5;241m+\u001b[39m\u001b[38;5;28mstr\u001b[39m(d1[\u001b[38;5;124m\"\u001b[39m\u001b[38;5;124mmeta\u001b[39m\u001b[38;5;124m\"\u001b[39m][\u001b[38;5;124m\"\u001b[39m\u001b[38;5;124mCODE_LINE\u001b[39m\u001b[38;5;124m\"\u001b[39m])\n\u001b[1;32m     20\u001b[0m id2\u001b[38;5;241m=\u001b[39md2[\u001b[38;5;124m\"\u001b[39m\u001b[38;5;124mmeta\u001b[39m\u001b[38;5;124m\"\u001b[39m][\u001b[38;5;124m\"\u001b[39m\u001b[38;5;124mID_ENTREPOT\u001b[39m\u001b[38;5;124m\"\u001b[39m]\u001b[38;5;241m+\u001b[39m\u001b[38;5;28mstr\u001b[39m(d2[\u001b[38;5;124m\"\u001b[39m\u001b[38;5;124mmeta\u001b[39m\u001b[38;5;124m\"\u001b[39m][\u001b[38;5;124m\"\u001b[39m\u001b[38;5;124mCODE_LINE\u001b[39m\u001b[38;5;124m\"\u001b[39m])\n\u001b[0;32m---> 24\u001b[0m \u001b[38;5;28;01mif\u001b[39;00m d1[\u001b[38;5;124m\"\u001b[39m\u001b[38;5;124mtext\u001b[39m\u001b[38;5;124m\"\u001b[39m]\u001b[38;5;241m==\u001b[39m\u001b[43md2\u001b[49m\u001b[43m[\u001b[49m\u001b[38;5;124;43m\"\u001b[39;49m\u001b[38;5;124;43mtext\u001b[39;49m\u001b[38;5;124;43m\"\u001b[39;49m\u001b[43m]\u001b[49m:\n\u001b[1;32m     25\u001b[0m     \u001b[38;5;28;01mif\u001b[39;00m id1\u001b[38;5;241m==\u001b[39mid2:\n\u001b[1;32m     26\u001b[0m         \u001b[38;5;66;03m#d1[\"meta\"][\"ID_ENTREPOT\"]==d2[\"meta\"][\"ID_ENTREPOT\"]:\u001b[39;00m\n\u001b[1;32m     27\u001b[0m         \u001b[38;5;66;03m#if d1[\"meta\"][\"CODE_LINE\"]==d2[\"meta\"][\"CODE_LINE\"]:\u001b[39;00m\n\u001b[1;32m     28\u001b[0m         \u001b[38;5;28;01mif\u001b[39;00m d1[\u001b[38;5;124m'\u001b[39m\u001b[38;5;124maccept\u001b[39m\u001b[38;5;124m'\u001b[39m]\u001b[38;5;241m!=\u001b[39md2[\u001b[38;5;124m\"\u001b[39m\u001b[38;5;124maccept\u001b[39m\u001b[38;5;124m\"\u001b[39m]:\n\u001b[1;32m     29\u001b[0m             \u001b[38;5;66;03m#print(\"yes\")\u001b[39;00m\n",
      "\u001b[0;31mKeyboardInterrupt\u001b[0m: "
     ]
    }
   ],
   "source": [
    "import re\n",
    "ldoc1=[lr1,lr2,lr3,lr4,lr5,lr6,lr7]\n",
    "ldoc2=[lr1,lr2,lr3,lr4,lr5,lr6,lr7]\n",
    "\n",
    "\n",
    "compa=list()\n",
    "\n",
    "for i1 in range(len(ldoc1)):\n",
    "    for i2 in range(len(ldoc2)):\n",
    "        if {i1,i2} not in compa:\n",
    "            compa+=[{i1,i2},{i2,i1}]\n",
    "            doc1=ldoc1[i1]\n",
    "            doc2=ldoc2[i2]\n",
    "            if doc1!=doc2:\n",
    "                c=0\n",
    "                for d1 in doc1:\n",
    "                    for d2 in doc2:\n",
    "                        id1=d1[\"meta\"][\"ID_ENTREPOT\"]+str(d1[\"meta\"][\"CODE_LINE\"])\n",
    "                        id2=d2[\"meta\"][\"ID_ENTREPOT\"]+str(d2[\"meta\"][\"CODE_LINE\"])\n",
    "\n",
    "\n",
    "\n",
    "                        if d1[\"text\"]==d2[\"text\"]:\n",
    "                            if id1==id2:\n",
    "                                #d1[\"meta\"][\"ID_ENTREPOT\"]==d2[\"meta\"][\"ID_ENTREPOT\"]:\n",
    "                                #if d1[\"meta\"][\"CODE_LINE\"]==d2[\"meta\"][\"CODE_LINE\"]:\n",
    "                                if d1['accept']!=d2[\"accept\"]:\n",
    "                                    #print(\"yes\")\n",
    "                                    if id1 not in rec:\n",
    "                                        print(\"yes\")\n",
    "                                        \n",
    "                                        if len(d1['accept']+d2[\"accept\"])==1:\n",
    "                                            for p in ajout:\n",
    "                                                pat=re.compile(\"\\W+\"+p+\"s?\\W+\")\n",
    "                                                if re.search(pat,\" \"+d1[\"text\"]+\" \"):\n",
    "                                                    print(d1[\"text\"])\n",
    "                                                    print(d1['accept']+d2[\"accept\"])\n",
    "\n",
    "\n",
    "                                        #rec.add(id1)\n",
    "                                        #annotated.append(d1)\n",
    "                                #c+=1"
   ]
  },
  {
   "cell_type": "code",
   "execution_count": 13,
   "id": "3885046a-b8f0-4c28-97eb-9825dc5e981e",
   "metadata": {
    "scrolled": true,
    "tags": []
   },
   "outputs": [
    {
     "data": {
      "text/plain": [
       "[{0},\n",
       " {0},\n",
       " {0, 1},\n",
       " {0, 1},\n",
       " {0, 2},\n",
       " {0, 2},\n",
       " {0, 3},\n",
       " {0, 3},\n",
       " {0, 4},\n",
       " {0, 4},\n",
       " {0, 5},\n",
       " {0, 5},\n",
       " {0, 6},\n",
       " {0, 6},\n",
       " {1},\n",
       " {1},\n",
       " {1, 2},\n",
       " {1, 2},\n",
       " {1, 3},\n",
       " {1, 3},\n",
       " {1, 4},\n",
       " {1, 4},\n",
       " {1, 5},\n",
       " {1, 5},\n",
       " {1, 6},\n",
       " {1, 6},\n",
       " {2},\n",
       " {2},\n",
       " {2, 3},\n",
       " {2, 3},\n",
       " {2, 4},\n",
       " {2, 4},\n",
       " {2, 5},\n",
       " {2, 5},\n",
       " {2, 6},\n",
       " {2, 6},\n",
       " {3},\n",
       " {3},\n",
       " {3, 4},\n",
       " {3, 4},\n",
       " {3, 5},\n",
       " {3, 5},\n",
       " {3, 6},\n",
       " {3, 6},\n",
       " {4},\n",
       " {4},\n",
       " {4, 5},\n",
       " {4, 5},\n",
       " {4, 6},\n",
       " {4, 6},\n",
       " {5},\n",
       " {5},\n",
       " {5, 6},\n",
       " {5, 6},\n",
       " {6},\n",
       " {6}]"
      ]
     },
     "execution_count": 13,
     "metadata": {},
     "output_type": "execute_result"
    }
   ],
   "source": [
    "compa"
   ]
  },
  {
   "cell_type": "code",
   "execution_count": null,
   "id": "51ec1840-58a4-47f5-ab18-6f3c6f95929c",
   "metadata": {},
   "outputs": [],
   "source": []
  },
  {
   "cell_type": "code",
   "execution_count": 39,
   "id": "7d6adc68-9747-45f5-8b7a-3f2882c07f00",
   "metadata": {},
   "outputs": [
    {
     "ename": "AttributeError",
     "evalue": "'list' object has no attribute 'name'",
     "output_type": "error",
     "traceback": [
      "\u001b[0;31m---------------------------------------------------------------------------\u001b[0m",
      "\u001b[0;31mAttributeError\u001b[0m                            Traceback (most recent call last)",
      "Input \u001b[0;32mIn [39]\u001b[0m, in \u001b[0;36m<cell line: 1>\u001b[0;34m()\u001b[0m\n\u001b[0;32m----> 1\u001b[0m {\u001b[43mlr1\u001b[49m\u001b[38;5;241;43m.\u001b[39;49m\u001b[43mname\u001b[49m,lr2\u001b[38;5;241m.\u001b[39mname}\n",
      "\u001b[0;31mAttributeError\u001b[0m: 'list' object has no attribute 'name'"
     ]
    }
   ],
   "source": [
    "{lr1.name,lr2.name}"
   ]
  },
  {
   "cell_type": "code",
   "execution_count": 63,
   "id": "5d5a00d8-5e34-4747-9a95-027ee182fe4c",
   "metadata": {},
   "outputs": [
    {
     "data": {
      "text/plain": [
       "0"
      ]
     },
     "execution_count": 63,
     "metadata": {},
     "output_type": "execute_result"
    }
   ],
   "source": [
    "c"
   ]
  },
  {
   "cell_type": "code",
   "execution_count": 171,
   "id": "1d07c14a-f92a-4baa-8ec6-f3fa07084f68",
   "metadata": {},
   "outputs": [],
   "source": [
    "rec=set()"
   ]
  },
  {
   "cell_type": "code",
   "execution_count": 163,
   "id": "3a8c938a-2d21-4cad-a4f1-4e61d890367a",
   "metadata": {},
   "outputs": [],
   "source": [
    "#groupe de comparaison (phrases communes et non cummun) : (1,2), (4,5), (6,7),\n",
    "\n",
    "import re\n",
    "import unidecode\n",
    "\n",
    "def correction(lr1,lr2,rec,ajout,supprime):\n",
    "    annotated=list()\n",
    "    a_decider=list()\n",
    "    for d1 in lr1:\n",
    "        for d2 in lr2:\n",
    "            id1=d1[\"meta\"][\"ID_ENTREPOT\"]+\"-\"+str(d1[\"meta\"][\"CODE_LINE\"])\n",
    "            id2=d2[\"meta\"][\"ID_ENTREPOT\"]+\"-\"+str(d2[\"meta\"][\"CODE_LINE\"])\n",
    "\n",
    "\n",
    "\n",
    "            if d1[\"text\"]==d2[\"text\"]:\n",
    "                if id1==id2:\n",
    "                    #d1[\"meta\"][\"ID_ENTREPOT\"]==d2[\"meta\"][\"ID_ENTREPOT\"]:\n",
    "                    #if d1[\"meta\"][\"CODE_LINE\"]==d2[\"meta\"][\"CODE_LINE\"]:\n",
    "                    \n",
    "                    if d1['accept']==d2[\"accept\"]:\n",
    "                        if id1 not in rec:\n",
    "                            annotated.append(d1)\n",
    "                            rec.add(id1)\n",
    "\n",
    "                    \n",
    "                    if d1['accept']!=d2[\"accept\"]:\n",
    "                        #print(\"yes\")\n",
    "                        if id1 not in rec:\n",
    "                            #print(\"yes\")\n",
    "                            label=[]\n",
    "                            d=d1.copy()\n",
    "                            s=d1[\"text\"].strip().lower()\n",
    "                            s=unidecode.unidecode(s)\n",
    "                            if len(d1['accept']+d2[\"accept\"])==1:\n",
    "                                \n",
    "                                \n",
    "                                for p in ajout:\n",
    "                                    pat=re.compile(\"\\W+\"+p+\"s?\\W+\")\n",
    "                                    if re.search(pat,\" \"+s+\" \"):\n",
    "                                        #print(d1[\"text\"])\n",
    "                                        #print(d1['accept']+d2[\"accept\"])\n",
    "                                        #d=d1.copy()\n",
    "                                        label=d1['accept']+d2[\"accept\"]\n",
    "                                        d['accept']=label\n",
    "                                        annotated.append(d)\n",
    "                                \n",
    "                                if not label:\n",
    "                                    for p in supprime:\n",
    "                                        pat=re.compile(\"\\W+\"+p+\"s?\\W+\")\n",
    "                                        if re.search(pat,\" \"+s+\" \"):\n",
    "                                            d['accept']=[]\n",
    "                                            annotated.append(d)\n",
    "                                            label=[\"-\"]\n",
    "                                if not label:\n",
    "                                    label=d1['accept']+d2[\"accept\"]\n",
    "                                    d['accept']=label\n",
    "                                    a_decider.append(d)\n",
    "                                            \n",
    "                            \n",
    "                            if len(d1['accept']+d2[\"accept\"])>1:\n",
    "                                #d=d1.copy()\n",
    "                                label=d1['accept']+d2[\"accept\"]\n",
    "                                d['accept']=label\n",
    "                                a_decider.append(d)\n",
    "                                \n",
    "\n",
    "    return annotated, a_decider\n",
    "                                \n",
    "                                \n",
    "\n",
    "    "
   ]
  },
  {
   "cell_type": "code",
   "execution_count": 44,
   "id": "d1881586-d854-4147-b51c-0ba2c6f29014",
   "metadata": {},
   "outputs": [],
   "source": [
    "a={1:3}\n",
    "b=a.copy()\n",
    "b[1]=2"
   ]
  },
  {
   "cell_type": "code",
   "execution_count": 46,
   "id": "a674bbbf-618c-47d0-86d2-cd90d3ce1a1c",
   "metadata": {},
   "outputs": [
    {
     "data": {
      "text/plain": [
       "{1: 3}"
      ]
     },
     "execution_count": 46,
     "metadata": {},
     "output_type": "execute_result"
    }
   ],
   "source": [
    "a"
   ]
  },
  {
   "cell_type": "code",
   "execution_count": 41,
   "id": "46ecbd22-dfb6-42c5-83ad-b4e527347e75",
   "metadata": {},
   "outputs": [
    {
     "data": {
      "text/plain": [
       "360"
      ]
     },
     "execution_count": 41,
     "metadata": {},
     "output_type": "execute_result"
    }
   ],
   "source": [
    "len(rec)"
   ]
  },
  {
   "cell_type": "code",
   "execution_count": 174,
   "id": "56113b67-cc07-428f-95c8-22921c651692",
   "metadata": {},
   "outputs": [],
   "source": [
    "annotated67, a_decider67=correction(decided,allannot,rec,ajout,supprime)"
   ]
  },
  {
   "cell_type": "code",
   "execution_count": 175,
   "id": "b85ce813-26ce-4781-93cc-a0097867b737",
   "metadata": {
    "scrolled": true,
    "tags": []
   },
   "outputs": [
    {
     "data": {
      "text/plain": [
       "0"
      ]
     },
     "execution_count": 175,
     "metadata": {},
     "output_type": "execute_result"
    }
   ],
   "source": [
    "len(annotated67)"
   ]
  },
  {
   "cell_type": "code",
   "execution_count": 69,
   "id": "6996e2bc-6e6a-4ced-9a77-31f07c7e053f",
   "metadata": {},
   "outputs": [
    {
     "name": "stdout",
     "output_type": "stream",
     "text": [
      "cardio : bdc reguliers, pas de tachycardie, pas de souffle pas de signe de phlebite pas de signe d'icd pneumo : toux avec encombrement, mais pas d'expectorations (patient incapable de faire un effort de toux) ronchi bilat mv bilat et symetrique\n"
     ]
    }
   ],
   "source": [
    "s=\"Cardio : bdc réguliers, pas de tachycardie, pas de souffle pas de signe de phlébite pas de signe d'ICD Pneumo : toux avec encombrement, mais pas d'expectorations (patient incapable de faire un effort de toux) ronchi bilat MV bilat et symétrique\"\n",
    "s=s.strip().lower()\n",
    "s=unidecode.unidecode(s)\n",
    "print(s)"
   ]
  },
  {
   "cell_type": "code",
   "execution_count": 70,
   "id": "e557a353-9cdb-4369-b973-8d6f939488c1",
   "metadata": {},
   "outputs": [
    {
     "name": "stdout",
     "output_type": "stream",
     "text": [
      "yes\n"
     ]
    }
   ],
   "source": [
    "for p in ajout:\n",
    "    pat=re.compile(\"\\W+\"+p+\"s?\\W+\")\n",
    "    if re.search(pat,\" \"+s+\" \"):\n",
    "        print(\"yes\")"
   ]
  },
  {
   "cell_type": "code",
   "execution_count": 74,
   "id": "6a6b0db0-9e30-41ce-a79e-47fb4bafe040",
   "metadata": {},
   "outputs": [
    {
     "name": "stdout",
     "output_type": "stream",
     "text": [
      "{'text': \"Cardio : bdc réguliers, pas de tachycardie, pas de souffle pas de signe de phlébite pas de signe d'ICD Pneumo : toux avec encombrement, mais pas d'expectorations (patient incapable de faire un effort de toux) ronchi bilat MV bilat et symétrique\", 'meta': {'TYPE_DOC': 'DXCARE:E1762', 'ID_ENTREPOT': '64791461', 'CODE_LINE': 14914, 'annotator': None, 'annotator2': None}, 'options': [{'id': '9', 'text': 'absence_cardia'}, {'id': '10', 'text': 'presence_cardia'}], '_input_hash': -14914, '_task_hash': -14914, '_view_id': 'choice', 'accept': [], 'answer': 'accept', '_timestamp': 1713862362, 'auto_label': 0, 'score': 1, 'config': {'choice_style': 'single'}}\n"
     ]
    }
   ],
   "source": [
    "for d in lr6:\n",
    "    if d[\"meta\"]['ID_ENTREPOT']=='64791461' and d[\"meta\"]['CODE_LINE']==14914:\n",
    "        print(d)"
   ]
  },
  {
   "cell_type": "code",
   "execution_count": 75,
   "id": "c9edf7bf-85d0-49a3-a3ef-f8a9c23963fc",
   "metadata": {},
   "outputs": [
    {
     "name": "stdout",
     "output_type": "stream",
     "text": [
      "{'text': \"Cardio : bdc réguliers, pas de tachycardie, pas de souffle pas de signe de phlébite pas de signe d'ICD Pneumo : toux avec encombrement, mais pas d'expectorations (patient incapable de faire un effort de toux) ronchi bilat MV bilat et symétrique\", 'meta': {'TYPE_DOC': 'DXCARE:E1762', 'ID_ENTREPOT': '64791461', 'CODE_LINE': 14914, 'annotator': None, 'annotator2': None}, 'options': [{'id': '9', 'text': 'absence_cardia'}, {'id': '10', 'text': 'presence_cardia'}], '_input_hash': -14914, '_task_hash': -14914, '_view_id': 'choice', 'accept': [], 'answer': 'accept', '_timestamp': 1713864660, 'auto_label': 0, 'score': 1, 'config': {'choice_style': 'single'}}\n"
     ]
    }
   ],
   "source": [
    "for d in lr7:\n",
    "    if d[\"meta\"]['ID_ENTREPOT']=='64791461' and d[\"meta\"]['CODE_LINE']==14914:\n",
    "        print(d)"
   ]
  },
  {
   "cell_type": "code",
   "execution_count": null,
   "id": "4ae3cd49-ae1a-4980-82d6-7d93d25a939b",
   "metadata": {},
   "outputs": [],
   "source": [
    "[[],[],[],[],[],[],['9'],]"
   ]
  },
  {
   "cell_type": "code",
   "execution_count": 158,
   "id": "8565f4a2-dbb8-40ff-a0f4-28da3c1adfd6",
   "metadata": {},
   "outputs": [
    {
     "name": "stdout",
     "output_type": "stream",
     "text": [
      "respi demandée, toux productive pas d'autre signe de décompensation cardiaque => lasilix 80 => kiné\n"
     ]
    }
   ],
   "source": [
    "for i in range(len(annotated67)):\n",
    "    d=annotated67[i]\n",
    "    if d[\"meta\"]['ID_ENTREPOT']=='128714830' and d[\"meta\"]['CODE_LINE']==8620:\n",
    "        print(d[\"text\"])\n",
    "        annotated67[i][\"accept\"]=[\"9\"]"
   ]
  },
  {
   "cell_type": "code",
   "execution_count": 177,
   "id": "c629af76-8777-40be-8c81-531645d10257",
   "metadata": {},
   "outputs": [
    {
     "data": {
      "text/plain": [
       "1781"
      ]
     },
     "execution_count": 177,
     "metadata": {},
     "output_type": "execute_result"
    }
   ],
   "source": [
    "len(rec)"
   ]
  },
  {
   "cell_type": "code",
   "execution_count": 237,
   "id": "5c9593c1-fa17-4ff3-8b0c-5b63c428ec32",
   "metadata": {},
   "outputs": [],
   "source": [
    "list_neg=[\"pas \", \"pas de \", \"pas d'\",\"absence \", \"absence de \", \"absence d'\", \n",
    "          \"non \", \"sans \", \"sans signe de \", \"sans signe d'\",\"ni de \", \"ni \", \"aucun \", \n",
    "          \"aucun signes d'\", \"aucun signes de \", \"pas de signe d'\",\"pas de signe de \", \"pas de signes de \", \n",
    "          \"pas de signes d'\", \"pas d'autre signe d'\", \"pas d'autre signe de \", \"pas de signes en faveur d'une \"]"
   ]
  },
  {
   "cell_type": "code",
   "execution_count": 249,
   "id": "a98659fa-c081-46b8-ae36-db7b03716e46",
   "metadata": {},
   "outputs": [],
   "source": [
    "list_conf=[\"pour \", \"sa \", \"son \", \"associee a une \", \"amelioration des signes d'\", \"amelioration des signes de \"]\n",
    "post_conf=[\" traite\",\" traitee\", \" pendant son hospitalisation\", \" hospitalise\", \" en\"]"
   ]
  },
  {
   "cell_type": "code",
   "execution_count": 239,
   "id": "d0c5ea1f-0628-4748-8a83-89a7e223fe28",
   "metadata": {},
   "outputs": [],
   "source": [
    "patneg=list()\n",
    "for p in ajout:\n",
    "    for n in list_neg:\n",
    "        patneg.append(n+p)"
   ]
  },
  {
   "cell_type": "code",
   "execution_count": 250,
   "id": "efa48729-f087-4e05-aee1-a36c7f7e12f6",
   "metadata": {},
   "outputs": [],
   "source": [
    "patconf=list()\n",
    "for p in ajout:\n",
    "    for n in list_conf:\n",
    "        patconf.append(n+p)\n",
    "    for n in post_conf:\n",
    "        patconf.append(p+n)"
   ]
  },
  {
   "cell_type": "code",
   "execution_count": null,
   "id": "1d637a12-a19d-4a03-8346-447f00df0480",
   "metadata": {},
   "outputs": [],
   "source": []
  },
  {
   "cell_type": "code",
   "execution_count": null,
   "id": "7dffe966-7855-4ca6-9bc3-8a9cd79b6844",
   "metadata": {},
   "outputs": [],
   "source": []
  },
  {
   "cell_type": "code",
   "execution_count": 227,
   "id": "dcab5288-6554-436e-a99f-9e077d7a05b9",
   "metadata": {
    "scrolled": true,
    "tags": []
   },
   "outputs": [
    {
     "data": {
      "text/plain": [
       "['pas ic',\n",
       " 'pas de ic',\n",
       " \"pas d'ic\",\n",
       " 'absence ic',\n",
       " 'absence de ic',\n",
       " \"absence d'ic\",\n",
       " 'non ic',\n",
       " 'sans ic',\n",
       " 'sans signe de ic',\n",
       " \"sans signe d'ic\",\n",
       " 'ni de ic',\n",
       " 'ni ic',\n",
       " 'aucun ic',\n",
       " \"aucun signes d'ic\",\n",
       " 'aucun signes de ic',\n",
       " \"pas de signe d'ic\",\n",
       " 'pas de signe de ic',\n",
       " 'pas de signes de ic',\n",
       " \"pas de signes d'ic\",\n",
       " \"pas d'autre signe d'ic\",\n",
       " \"pas d'autre signe de ic\",\n",
       " 'pas ivd',\n",
       " 'pas de ivd',\n",
       " \"pas d'ivd\",\n",
       " 'absence ivd',\n",
       " 'absence de ivd',\n",
       " \"absence d'ivd\",\n",
       " 'non ivd',\n",
       " 'sans ivd',\n",
       " 'sans signe de ivd',\n",
       " \"sans signe d'ivd\",\n",
       " 'ni de ivd',\n",
       " 'ni ivd',\n",
       " 'aucun ivd',\n",
       " \"aucun signes d'ivd\",\n",
       " 'aucun signes de ivd',\n",
       " \"pas de signe d'ivd\",\n",
       " 'pas de signe de ivd',\n",
       " 'pas de signes de ivd',\n",
       " \"pas de signes d'ivd\",\n",
       " \"pas d'autre signe d'ivd\",\n",
       " \"pas d'autre signe de ivd\",\n",
       " 'pas ivg',\n",
       " 'pas de ivg',\n",
       " \"pas d'ivg\",\n",
       " 'absence ivg',\n",
       " 'absence de ivg',\n",
       " \"absence d'ivg\",\n",
       " 'non ivg',\n",
       " 'sans ivg',\n",
       " 'sans signe de ivg',\n",
       " \"sans signe d'ivg\",\n",
       " 'ni de ivg',\n",
       " 'ni ivg',\n",
       " 'aucun ivg',\n",
       " \"aucun signes d'ivg\",\n",
       " 'aucun signes de ivg',\n",
       " \"pas de signe d'ivg\",\n",
       " 'pas de signe de ivg',\n",
       " 'pas de signes de ivg',\n",
       " \"pas de signes d'ivg\",\n",
       " \"pas d'autre signe d'ivg\",\n",
       " \"pas d'autre signe de ivg\",\n",
       " 'pas decompensation cardiaque',\n",
       " 'pas de decompensation cardiaque',\n",
       " \"pas d'decompensation cardiaque\",\n",
       " 'absence decompensation cardiaque',\n",
       " 'absence de decompensation cardiaque',\n",
       " \"absence d'decompensation cardiaque\",\n",
       " 'non decompensation cardiaque',\n",
       " 'sans decompensation cardiaque',\n",
       " 'sans signe de decompensation cardiaque',\n",
       " \"sans signe d'decompensation cardiaque\",\n",
       " 'ni de decompensation cardiaque',\n",
       " 'ni decompensation cardiaque',\n",
       " 'aucun decompensation cardiaque',\n",
       " \"aucun signes d'decompensation cardiaque\",\n",
       " 'aucun signes de decompensation cardiaque',\n",
       " \"pas de signe d'decompensation cardiaque\",\n",
       " 'pas de signe de decompensation cardiaque',\n",
       " 'pas de signes de decompensation cardiaque',\n",
       " \"pas de signes d'decompensation cardiaque\",\n",
       " \"pas d'autre signe d'decompensation cardiaque\",\n",
       " \"pas d'autre signe de decompensation cardiaque\",\n",
       " 'pas decompensation cardiaque globale',\n",
       " 'pas de decompensation cardiaque globale',\n",
       " \"pas d'decompensation cardiaque globale\",\n",
       " 'absence decompensation cardiaque globale',\n",
       " 'absence de decompensation cardiaque globale',\n",
       " \"absence d'decompensation cardiaque globale\",\n",
       " 'non decompensation cardiaque globale',\n",
       " 'sans decompensation cardiaque globale',\n",
       " 'sans signe de decompensation cardiaque globale',\n",
       " \"sans signe d'decompensation cardiaque globale\",\n",
       " 'ni de decompensation cardiaque globale',\n",
       " 'ni decompensation cardiaque globale',\n",
       " 'aucun decompensation cardiaque globale',\n",
       " \"aucun signes d'decompensation cardiaque globale\",\n",
       " 'aucun signes de decompensation cardiaque globale',\n",
       " \"pas de signe d'decompensation cardiaque globale\",\n",
       " 'pas de signe de decompensation cardiaque globale',\n",
       " 'pas de signes de decompensation cardiaque globale',\n",
       " \"pas de signes d'decompensation cardiaque globale\",\n",
       " \"pas d'autre signe d'decompensation cardiaque globale\",\n",
       " \"pas d'autre signe de decompensation cardiaque globale\",\n",
       " 'pas dc',\n",
       " 'pas de dc',\n",
       " \"pas d'dc\",\n",
       " 'absence dc',\n",
       " 'absence de dc',\n",
       " \"absence d'dc\",\n",
       " 'non dc',\n",
       " 'sans dc',\n",
       " 'sans signe de dc',\n",
       " \"sans signe d'dc\",\n",
       " 'ni de dc',\n",
       " 'ni dc',\n",
       " 'aucun dc',\n",
       " \"aucun signes d'dc\",\n",
       " 'aucun signes de dc',\n",
       " \"pas de signe d'dc\",\n",
       " 'pas de signe de dc',\n",
       " 'pas de signes de dc',\n",
       " \"pas de signes d'dc\",\n",
       " \"pas d'autre signe d'dc\",\n",
       " \"pas d'autre signe de dc\",\n",
       " 'pas absence cardiaque',\n",
       " 'pas de absence cardiaque',\n",
       " \"pas d'absence cardiaque\",\n",
       " 'absence absence cardiaque',\n",
       " 'absence de absence cardiaque',\n",
       " \"absence d'absence cardiaque\",\n",
       " 'non absence cardiaque',\n",
       " 'sans absence cardiaque',\n",
       " 'sans signe de absence cardiaque',\n",
       " \"sans signe d'absence cardiaque\",\n",
       " 'ni de absence cardiaque',\n",
       " 'ni absence cardiaque',\n",
       " 'aucun absence cardiaque',\n",
       " \"aucun signes d'absence cardiaque\",\n",
       " 'aucun signes de absence cardiaque',\n",
       " \"pas de signe d'absence cardiaque\",\n",
       " 'pas de signe de absence cardiaque',\n",
       " 'pas de signes de absence cardiaque',\n",
       " \"pas de signes d'absence cardiaque\",\n",
       " \"pas d'autre signe d'absence cardiaque\",\n",
       " \"pas d'autre signe de absence cardiaque\",\n",
       " 'pas decompensation cardique',\n",
       " 'pas de decompensation cardique',\n",
       " \"pas d'decompensation cardique\",\n",
       " 'absence decompensation cardique',\n",
       " 'absence de decompensation cardique',\n",
       " \"absence d'decompensation cardique\",\n",
       " 'non decompensation cardique',\n",
       " 'sans decompensation cardique',\n",
       " 'sans signe de decompensation cardique',\n",
       " \"sans signe d'decompensation cardique\",\n",
       " 'ni de decompensation cardique',\n",
       " 'ni decompensation cardique',\n",
       " 'aucun decompensation cardique',\n",
       " \"aucun signes d'decompensation cardique\",\n",
       " 'aucun signes de decompensation cardique',\n",
       " \"pas de signe d'decompensation cardique\",\n",
       " 'pas de signe de decompensation cardique',\n",
       " 'pas de signes de decompensation cardique',\n",
       " \"pas de signes d'decompensation cardique\",\n",
       " \"pas d'autre signe d'decompensation cardique\",\n",
       " \"pas d'autre signe de decompensation cardique\",\n",
       " 'pas ivg/ivd',\n",
       " 'pas de ivg/ivd',\n",
       " \"pas d'ivg/ivd\",\n",
       " 'absence ivg/ivd',\n",
       " 'absence de ivg/ivd',\n",
       " \"absence d'ivg/ivd\",\n",
       " 'non ivg/ivd',\n",
       " 'sans ivg/ivd',\n",
       " 'sans signe de ivg/ivd',\n",
       " \"sans signe d'ivg/ivd\",\n",
       " 'ni de ivg/ivd',\n",
       " 'ni ivg/ivd',\n",
       " 'aucun ivg/ivd',\n",
       " \"aucun signes d'ivg/ivd\",\n",
       " 'aucun signes de ivg/ivd',\n",
       " \"pas de signe d'ivg/ivd\",\n",
       " 'pas de signe de ivg/ivd',\n",
       " 'pas de signes de ivg/ivd',\n",
       " \"pas de signes d'ivg/ivd\",\n",
       " \"pas d'autre signe d'ivg/ivd\",\n",
       " \"pas d'autre signe de ivg/ivd\",\n",
       " 'pas icd',\n",
       " 'pas de icd',\n",
       " \"pas d'icd\",\n",
       " 'absence icd',\n",
       " 'absence de icd',\n",
       " \"absence d'icd\",\n",
       " 'non icd',\n",
       " 'sans icd',\n",
       " 'sans signe de icd',\n",
       " \"sans signe d'icd\",\n",
       " 'ni de icd',\n",
       " 'ni icd',\n",
       " 'aucun icd',\n",
       " \"aucun signes d'icd\",\n",
       " 'aucun signes de icd',\n",
       " \"pas de signe d'icd\",\n",
       " 'pas de signe de icd',\n",
       " 'pas de signes de icd',\n",
       " \"pas de signes d'icd\",\n",
       " \"pas d'autre signe d'icd\",\n",
       " \"pas d'autre signe de icd\",\n",
       " 'pas icg',\n",
       " 'pas de icg',\n",
       " \"pas d'icg\",\n",
       " 'absence icg',\n",
       " 'absence de icg',\n",
       " \"absence d'icg\",\n",
       " 'non icg',\n",
       " 'sans icg',\n",
       " 'sans signe de icg',\n",
       " \"sans signe d'icg\",\n",
       " 'ni de icg',\n",
       " 'ni icg',\n",
       " 'aucun icg',\n",
       " \"aucun signes d'icg\",\n",
       " 'aucun signes de icg',\n",
       " \"pas de signe d'icg\",\n",
       " 'pas de signe de icg',\n",
       " 'pas de signes de icg',\n",
       " \"pas de signes d'icg\",\n",
       " \"pas d'autre signe d'icg\",\n",
       " \"pas d'autre signe de icg\",\n",
       " 'pas insuffisance cardiaque',\n",
       " 'pas de insuffisance cardiaque',\n",
       " \"pas d'insuffisance cardiaque\",\n",
       " 'absence insuffisance cardiaque',\n",
       " 'absence de insuffisance cardiaque',\n",
       " \"absence d'insuffisance cardiaque\",\n",
       " 'non insuffisance cardiaque',\n",
       " 'sans insuffisance cardiaque',\n",
       " 'sans signe de insuffisance cardiaque',\n",
       " \"sans signe d'insuffisance cardiaque\",\n",
       " 'ni de insuffisance cardiaque',\n",
       " 'ni insuffisance cardiaque',\n",
       " 'aucun insuffisance cardiaque',\n",
       " \"aucun signes d'insuffisance cardiaque\",\n",
       " 'aucun signes de insuffisance cardiaque',\n",
       " \"pas de signe d'insuffisance cardiaque\",\n",
       " 'pas de signe de insuffisance cardiaque',\n",
       " 'pas de signes de insuffisance cardiaque',\n",
       " \"pas de signes d'insuffisance cardiaque\",\n",
       " \"pas d'autre signe d'insuffisance cardiaque\",\n",
       " \"pas d'autre signe de insuffisance cardiaque\",\n",
       " 'pas insuffisance cardique',\n",
       " 'pas de insuffisance cardique',\n",
       " \"pas d'insuffisance cardique\",\n",
       " 'absence insuffisance cardique',\n",
       " 'absence de insuffisance cardique',\n",
       " \"absence d'insuffisance cardique\",\n",
       " 'non insuffisance cardique',\n",
       " 'sans insuffisance cardique',\n",
       " 'sans signe de insuffisance cardique',\n",
       " \"sans signe d'insuffisance cardique\",\n",
       " 'ni de insuffisance cardique',\n",
       " 'ni insuffisance cardique',\n",
       " 'aucun insuffisance cardique',\n",
       " \"aucun signes d'insuffisance cardique\",\n",
       " 'aucun signes de insuffisance cardique',\n",
       " \"pas de signe d'insuffisance cardique\",\n",
       " 'pas de signe de insuffisance cardique',\n",
       " 'pas de signes de insuffisance cardique',\n",
       " \"pas de signes d'insuffisance cardique\",\n",
       " \"pas d'autre signe d'insuffisance cardique\",\n",
       " \"pas d'autre signe de insuffisance cardique\",\n",
       " 'pas dysfonction bi ventriculaire',\n",
       " 'pas de dysfonction bi ventriculaire',\n",
       " \"pas d'dysfonction bi ventriculaire\",\n",
       " 'absence dysfonction bi ventriculaire',\n",
       " 'absence de dysfonction bi ventriculaire',\n",
       " \"absence d'dysfonction bi ventriculaire\",\n",
       " 'non dysfonction bi ventriculaire',\n",
       " 'sans dysfonction bi ventriculaire',\n",
       " 'sans signe de dysfonction bi ventriculaire',\n",
       " \"sans signe d'dysfonction bi ventriculaire\",\n",
       " 'ni de dysfonction bi ventriculaire',\n",
       " 'ni dysfonction bi ventriculaire',\n",
       " 'aucun dysfonction bi ventriculaire',\n",
       " \"aucun signes d'dysfonction bi ventriculaire\",\n",
       " 'aucun signes de dysfonction bi ventriculaire',\n",
       " \"pas de signe d'dysfonction bi ventriculaire\",\n",
       " 'pas de signe de dysfonction bi ventriculaire',\n",
       " 'pas de signes de dysfonction bi ventriculaire',\n",
       " \"pas de signes d'dysfonction bi ventriculaire\",\n",
       " \"pas d'autre signe d'dysfonction bi ventriculaire\",\n",
       " \"pas d'autre signe de dysfonction bi ventriculaire\"]"
      ]
     },
     "execution_count": 227,
     "metadata": {},
     "output_type": "execute_result"
    }
   ],
   "source": [
    "patneg"
   ]
  },
  {
   "cell_type": "code",
   "execution_count": 241,
   "id": "5c043244-88ca-434e-b0bd-c6b0d399113b",
   "metadata": {},
   "outputs": [],
   "source": [
    "for i in range(len(allannot)):\n",
    "    d=allannot[i]\n",
    "    if d[\"meta\"][\"ID_ENTREPOT\"]+\"-\"+str(d[\"meta\"][\"CODE_LINE\"]) not in rec:\n",
    "        if d[\"accept\"]==[]:\n",
    "            s=unidecode.unidecode(allannot[i][\"text\"].strip().lower())\n",
    "\n",
    "            for p in patneg:\n",
    "                pat=re.compile(\"\\W+\"+p+\"s?\\W+\")\n",
    "                if re.search(pat,\" \"+s+\" \"):\n",
    "                    allannot[i][\"accept\"]=[\"9\"]"
   ]
  },
  {
   "cell_type": "code",
   "execution_count": 251,
   "id": "99c9f2f6-1204-4e65-b636-6fcfad83e6d1",
   "metadata": {
    "scrolled": true,
    "tags": []
   },
   "outputs": [],
   "source": [
    "for i in range(len(allannot)):\n",
    "    d=allannot[i]\n",
    "    if d[\"meta\"][\"ID_ENTREPOT\"]+\"-\"+str(d[\"meta\"][\"CODE_LINE\"]) not in rec:\n",
    "        if d[\"accept\"]==[]:\n",
    "            s=unidecode.unidecode(allannot[i][\"text\"].strip().lower())\n",
    "\n",
    "            for p in patconf:\n",
    "                pat=re.compile(\"\\W+\"+p+\"s?\\W+\")\n",
    "                if re.search(pat,\" \"+s+\" \"):\n",
    "                    allannot[i][\"accept\"]=[\"10\"]"
   ]
  },
  {
   "cell_type": "code",
   "execution_count": null,
   "id": "4aaad9fe-bb6d-4d47-b6e1-e0ec2da53d34",
   "metadata": {},
   "outputs": [],
   "source": []
  },
  {
   "cell_type": "code",
   "execution_count": 260,
   "id": "bf2cfc17-6bf4-4d3b-a427-983b3fda7f95",
   "metadata": {
    "scrolled": true,
    "tags": []
   },
   "outputs": [],
   "source": [
    "#with open()\n",
    "import json\n",
    "with open(\"cardia_a_annoter.jsonl\", \"w\", encoding=\"utf-8\") as output:\n",
    "    #for d in rec_indiff:\n",
    "     #   d[\"accept\"]=[]\n",
    "        \n",
    "\n",
    "    for d in allannot:\n",
    "        if d[\"meta\"][\"ID_ENTREPOT\"]+\"-\"+str(d[\"meta\"][\"CODE_LINE\"]) not in rec:\n",
    "            if d[\"accept\"]==[]:\n",
    "                s=d[\"text\"]\n",
    "                s=s.strip().lower()\n",
    "                s=unidecode.unidecode(s)\n",
    "                for p in ajout:\n",
    "                    pat=re.compile(\"\\W+\"+p+\"s?\\W+\")\n",
    "                    if re.search(pat,\" \"+s+\" \"):\n",
    "                        output.write(json.dumps(d, ensure_ascii=False).strip()+\"\\n\")\n",
    "                        print(d[\"text\"])\n",
    "                        print(\"\\n\")\n",
    "                        pass\n",
    "\n",
    "\n",
    "        \n",
    "        #print(d)"
   ]
  },
  {
   "cell_type": "code",
   "execution_count": 256,
   "id": "0b2246d6-7b50-48bc-8f46-4cd4d44cee8e",
   "metadata": {
    "scrolled": true,
    "tags": []
   },
   "outputs": [
    {
     "data": {
      "text/plain": [
       "81"
      ]
     },
     "execution_count": 256,
     "metadata": {},
     "output_type": "execute_result"
    }
   ],
   "source": [
    "len(lr8)"
   ]
  },
  {
   "cell_type": "code",
   "execution_count": 261,
   "id": "882b039e-1070-4fca-a57d-d744a87faae4",
   "metadata": {},
   "outputs": [],
   "source": [
    "lrest=list()\n",
    "for d in allannot:\n",
    "    if d[\"meta\"][\"ID_ENTREPOT\"]+\"-\"+str(d[\"meta\"][\"CODE_LINE\"]) not in rec:\n",
    "        lrest.append(d)\n",
    "        \n",
    "        \n",
    "    "
   ]
  },
  {
   "cell_type": "code",
   "execution_count": 262,
   "id": "f73f8249-d473-4df7-8822-0e70f54cc192",
   "metadata": {},
   "outputs": [
    {
     "data": {
      "text/plain": [
       "10452"
      ]
     },
     "execution_count": 262,
     "metadata": {},
     "output_type": "execute_result"
    }
   ],
   "source": [
    "len(lrest)"
   ]
  },
  {
   "cell_type": "code",
   "execution_count": null,
   "id": "78b31a4f-a746-4c4c-8ed1-56b56e40ff74",
   "metadata": {},
   "outputs": [],
   "source": []
  },
  {
   "cell_type": "code",
   "execution_count": 176,
   "id": "4d387ad6-42f4-4496-a92a-b95f8286fc50",
   "metadata": {
    "scrolled": true,
    "tags": []
   },
   "outputs": [
    {
     "data": {
      "text/plain": [
       "[]"
      ]
     },
     "execution_count": 176,
     "metadata": {},
     "output_type": "execute_result"
    }
   ],
   "source": [
    "a_decider67"
   ]
  },
  {
   "cell_type": "code",
   "execution_count": 138,
   "id": "69032b32-d5f8-42f3-a9d8-4e60794115ef",
   "metadata": {},
   "outputs": [],
   "source": [
    "lcor=[['10'],[],[],[],[],[],[],]"
   ]
  },
  {
   "cell_type": "code",
   "execution_count": 139,
   "id": "98d53ce4-76a2-4520-8d9b-1b79a82be6e5",
   "metadata": {},
   "outputs": [],
   "source": [
    "for i in range(len(lcor)):\n",
    "    a_decider67[i][\"accept\"]=lcor[i]"
   ]
  },
  {
   "cell_type": "code",
   "execution_count": null,
   "id": "813e52be-bbca-4c9b-9e5a-8e43982b0c06",
   "metadata": {},
   "outputs": [],
   "source": []
  },
  {
   "cell_type": "code",
   "execution_count": 160,
   "id": "56334b06-d341-481a-a9de-c7df62a0992f",
   "metadata": {},
   "outputs": [],
   "source": [
    "all12=annotated67+a_decider67"
   ]
  },
  {
   "cell_type": "code",
   "execution_count": 104,
   "id": "79338736-15cb-401d-94ff-26e2bb2b9ef4",
   "metadata": {},
   "outputs": [
    {
     "data": {
      "text/plain": [
       "402"
      ]
     },
     "execution_count": 104,
     "metadata": {},
     "output_type": "execute_result"
    }
   ],
   "source": [
    "len(all67)"
   ]
  },
  {
   "cell_type": "code",
   "execution_count": 142,
   "id": "6d7b3cf5-9b79-4d72-8f37-d2cac875b8e2",
   "metadata": {},
   "outputs": [
    {
     "data": {
      "text/plain": [
       "1137"
      ]
     },
     "execution_count": 142,
     "metadata": {},
     "output_type": "execute_result"
    }
   ],
   "source": [
    "len(all45)"
   ]
  },
  {
   "cell_type": "code",
   "execution_count": 161,
   "id": "66645f19-0808-4218-8fb7-ee9950e9a2fd",
   "metadata": {},
   "outputs": [
    {
     "data": {
      "text/plain": [
       "244"
      ]
     },
     "execution_count": 161,
     "metadata": {},
     "output_type": "execute_result"
    }
   ],
   "source": [
    "len(all12)"
   ]
  },
  {
   "cell_type": "code",
   "execution_count": null,
   "id": "2e342e28-2ac8-4ce3-855e-2cd6af88a4c1",
   "metadata": {},
   "outputs": [],
   "source": []
  },
  {
   "cell_type": "code",
   "execution_count": 258,
   "id": "07a40c32-e4de-40b3-8c03-001f09a0ac90",
   "metadata": {},
   "outputs": [],
   "source": [
    "for d in lr8:\n",
    "    rec.add(d[\"meta\"][\"ID_ENTREPOT\"]+\"-\"+str(d[\"meta\"][\"CODE_LINE\"]))"
   ]
  },
  {
   "cell_type": "code",
   "execution_count": 259,
   "id": "d37f6ed1-ed4a-48cd-a4a5-7fcf3cea5f43",
   "metadata": {},
   "outputs": [
    {
     "data": {
      "text/plain": [
       "1862"
      ]
     },
     "execution_count": 259,
     "metadata": {},
     "output_type": "execute_result"
    }
   ],
   "source": [
    "len(rec)"
   ]
  },
  {
   "cell_type": "code",
   "execution_count": 110,
   "id": "6ac06a3b-705a-4a22-b850-80d1c13e2695",
   "metadata": {},
   "outputs": [
    {
     "data": {
      "text/plain": [
       "404"
      ]
     },
     "execution_count": 110,
     "metadata": {},
     "output_type": "execute_result"
    }
   ],
   "source": [
    "len(lr7)"
   ]
  },
  {
   "cell_type": "code",
   "execution_count": 146,
   "id": "76b0f1ac-1173-4bec-abbd-2bac903caa95",
   "metadata": {},
   "outputs": [
    {
     "data": {
      "text/plain": [
       "1537"
      ]
     },
     "execution_count": 146,
     "metadata": {},
     "output_type": "execute_result"
    }
   ],
   "source": [
    "len(rec)"
   ]
  },
  {
   "cell_type": "code",
   "execution_count": null,
   "id": "020e4f1f-8f4d-48b4-9972-4539d9aa1417",
   "metadata": {},
   "outputs": [],
   "source": []
  },
  {
   "cell_type": "code",
   "execution_count": 17,
   "id": "3d72644f-7057-4992-bdd7-6c9e79270ca5",
   "metadata": {
    "scrolled": true,
    "tags": []
   },
   "outputs": [
    {
     "name": "stdout",
     "output_type": "stream",
     "text": [
      "Les pouls périphériques sont présents et symétriques. Pas de signe d'insuffisance cardiaque droite ni gauche, pas de signe de thrombose veineuse profonde.\n",
      "['9']\n",
      "Probable insuffisance cardiaque gauche (opacités en verre dépoli, lignes inter-lobulaires, cardiomégalie).\n",
      "['10']\n",
      "Il n'y a pas de signes d'insuffisance cardiaque.\n",
      "['9']\n",
      "mmHg. Il n'y a pas d'insuffisance cardiaque clinique.\n",
      "['9']\n",
      "Pas de signe d'insuffisance cardiaque droite ni gauche.\n",
      "['9']\n",
      "Pas de signe d'insuffisance cardiaque droite ni gauche.\n",
      "['9']\n",
      "- un examen clinique normal avec des bruits du cœur réguliers sans souffle sans signes d’insuffisance cardiaque. Pas de signes de TVP\n",
      "['9']\n",
      "-Cardio/Pneumo: BdC réguliers, pas de souffle entendus, pas de signes d'IC, pas de signes de phlébite.\n",
      "['9']\n",
      "régulier sans souffle, douleur thoracique non constrictive évoluant de façon chronique selon la patiente, pas de signe de choc, pas de signe d'insuffisance cardiaque,\n",
      "['9']\n",
      "fréquent pas de sfu, pas de trouble du transit pas de douleur à l'ébranlement des fosses lombaires cardio: BDC perçus assourdis, réguliers, claquement de B2, pas d'autres bruits surajoutés pouls périphériques perçus pas de signe d'ICG ni d'ICD.\n",
      "['9']\n",
      "- pas de signe d'IC\n",
      "['9']\n",
      "- Pas d'argument pour une insuffisance cardiaque.\n",
      "['9']\n",
      "Cliiquement: apyretique hemodynamique stable pa sde marbrure TRC<3s pas de froideur des extermités cardio respi : pa sde dlr th oaps de sigen d'IC MV+/+ pa sde cyanose pa sde signe de lutte abdo soupel pa sde defnsep a sde conytracture pa sd'ictere pa sde masse palpée pa sde SFU PAs de fecalome pa sde melena pa sde trb du tarnsit abdo parfaitement souple pa sde vomissement pas de nausée Devant surveillance prolongée sans douleur pa sde vomissment pa sde saignement pa sd'exteriorisatio npa sde deglobulisation, bio snas particularité, IPP déjà en place et patiente refusant de rester hospit => Ok pour retour à l'EPHAD avec consigne de securité données par ORL et à l'ecrit.\n",
      "['9']\n",
      "Auscultation cardiopulmonaire : Claire, symétrique, souffle cardiaque connu, pas de signe d'insuffisance cardiaque, auscultation régulière.\n",
      "['9']\n",
      "18:57) : Mode de vie retraité de l'agro alimentaire vit avec sa compagne 2 enfants 5 et 7 ans 5-6 verres de pastis par jours depuis 2 m car avait arreter ttt anti OK a repris il y a 5 jour avec espral et aotal 12 cig / j depuis ses 16 ans Texte libre apyretique cardio: bdc reg, pas souffle percu , pas signe IC, pouls distaux+/+ , pas de DT , pas d'angor d'effort pneumo: pas dyspnée, pas cyanose ni marbrure, mv+/+, pas bsa abdo ;: SDI , hematurie macro+ PK , pas brulure mictionnelle, pas tb transit ,pas dl percussion fosse lombaire neuro: g15, pas deficit sensitivomoteur, pas tb proprioception , pas synd cérébelleux statique, synd cérébelleux statique avec danse tendons + augmentation polygone de sustentation , pas deficit nc , pas synd vestibulaire tremblement leger des MS, pas flapping legere dl a palpation face lat 7e cotes , pas ecchymose CONSTANTE (08/10/2016 13:53 KLR Karen LE ROUZES )\n",
      "['9']\n",
      "- Pas de signe d'insuffisance cardiaque : pas d'OMI, pas de reflux hépato-jugulaire.\n",
      "['9']\n",
      "Insuffisance cardiaque?\n",
      "['10']\n",
      "Il n'y a pas de signe d'insuffisance cardiaque droite. Cliniquement, on retrouve des souffles bilatéraux fémoraux.\n",
      "['9']\n",
      "Auscultation cardio-pulmonaire : Bruits du cœur réguliers, sans souffle perçu, sans signe d’insuffisance cardiaque droite ou gauche.\n",
      "['9']\n",
      "- Cardio-vasc : insuff cardiaque (ETT 2018 : FE 60%) d'origine rythmique (FA parox), ischemique et valvulaire (RAC), AOMI ayant justifié endarteriectomie + pontage + endoprothese 2013 et 2018, DID II, dyslipidemie, Flutter cardioversion med, BSA pour lequel il est porteur depuis 2018 d'un stim cardiaque simple chambre\n",
      "['10']\n",
      "- Cardio-vasc : insuff cardiaque (ETT 2018 : FE 60%) d'origine rythmique (FA parox), ischemique et valvulaire (RAC), AOMI ayant justifié endarteriectomie + pontage + endoprothese 2013 et 2018, DID II, dyslipidemie, Flutter cardioversion med, BSA pour lequel il est porteur depuis 2018 d'un stim cardiaque simple chambre\n",
      "['10']\n",
      "- Insuffisance cardiaque droite\n",
      "['10']\n",
      "- Insuffisance cardiaque droite\n",
      "['10']\n",
      "- CS cardio : ETT RAS,pas de signes cliniques ins cardiaque\n",
      "['9']\n",
      "- CS cardio : ETT RAS,pas de signes cliniques ins cardiaque\n",
      "['9']\n",
      "La station debout est compliqué par des troubles de l'équilibre ancien Cardio : Bdc régulier, souffle de Rac (ancien), pas de signe d'IC, pas d'OMI, pouls pédieux bien perçus Pneumo : MV +/+ pas de bsa, eupnéique en aa Abdo : SDI, BHA+, bon transit dernière selle ce matin pas de SFU, pas de globe CONSTANTE (03/12/2018 23:17 GP gasrel pauline ) Affichage des 3 surveillances les plus récentes sur 3 03/12/2018 20:22 03/12/2018 20:18 03/12/2018 16:46 Surveillances Integrité bracelet PA Syst (mmHg) PA Diast. (mmHg) PA Moy. (mmHg) FC (/mn) Temp (°C)\n",
      "['9']\n",
      "La station debout est compliqué par des troubles de l'équilibre ancien Cardio : Bdc régulier, souffle de Rac à tous les foyers (ancien), pas de signe d'IC, pas d'OMI, pouls pédieux bien perçus Pneumo : MV +/+ pas de bsa, eupnéique en aa Abdo : SDI, BHA+, bon transit dernière selle ce matin pas de SFU, pas de globe Biologie : légère hyperkaliémie à 4.6 sans signe ECG\n",
      "['9']\n",
      "Examen cardiovasculaire sans anomalie apparente: bruit de cœurs réguliers sans souffle apparent. Absence de signes d'ICD/ICG. Absence d'OMI. Absence de signes d'hypoperfusion périphérique. Présence des pouls aux 4 membres.\n",
      "['9']\n",
      "Pouls périphériques: Signes d'IC: Crépitants en base gauche, MV assourdi à droite ABDO Moyennement souple. Dépressible.\n",
      "['10']\n",
      "hépatalgie Signes d'insuffisance cardiaque gauche Ulcère artériels chroniques au niveau du membre inférieur droit localisé au niveau partie interne et externe cheville.\n",
      "['10']\n",
      "hépatalgie Signes d'insuffisance cardiaque gauche Ulcère artériels chroniques au niveau du membre inférieur droit localisé au niveau partie interne et externe cheville.\n",
      "['10']\n",
      "Sur le plan cardiologique : Bruits de cœur réguliers, sans souffle, pas de signe d'insuffisance cardiaque droite ou gauche.\n",
      "['9']\n",
      "Pas de signe d'insuffisance cardiaque droite ni gauche.\n",
      "['9']\n",
      "Pas de signe d'insuffisance cardiaque droite ni gauche.\n",
      "['9']\n",
      "Vomissement non fécaloïde, Cardio: Bdc réguliers, abs souffle, Abs signe insu cardiaque, Pouls péripériques perçus, Abs TVP;\n",
      "['9']\n",
      "Fougère du 19/02 au 26/02 pour crise de goutte et fièvre. Mise en évidnce d'une bactériémie à streptococcus alactolyticus avec suspicion d'endocardite infectieuse sur valve aortique native. Début d'un traitement par AUGMENTIN et GENTAMICINE. Transfert en maladie infectieuse du 26/02 au 03/03/2018 : confirmation du diagnostic d'endocardite avec delabrement valvulaire et fuite importante 4/4 avec signe d'insuffisance cardiaque gauche.\n",
      "['10']\n",
      "Fougère du 19/02 au 26/02 pour crise de goutte et fièvre. Mise en évidnce d'une bactériémie à streptococcus alactolyticus avec suspicion d'endocardite infectieuse sur valve aortique native. Début d'un traitement par AUGMENTIN et GENTAMICINE. Transfert en maladie infectieuse du 26/02 au 03/03/2018 : confirmation du diagnostic d'endocardite avec delabrement valvulaire et fuite importante 4/4 avec signe d'insuffisance cardiaque gauche.\n",
      "['10']\n",
      "J0 le 23/02 --> 23/03/2018. Revoir avec Dr MANIUNTA pour programmation uro POur courrier, si geste uro sans ECBU fiable avant : faire 3g d'AMOX po 1h avant le geste SYNTHESE DU SEJOUR Patient de 72 ans, aux antécédents d'insuffisance cardiaque sur terrain dyslipidémique, avec souffle systolique connu, sans trouble de la FEVG en 2017, SAOS appareillé, arthropathie microcristalline, incontinence urinaire. Hospitalisé depuis le 26/02/2018 suite à une hospitalisation du 19.02 au\n",
      "['10']\n",
      "L'endocardite est confirmée, il existe un délabrement valvulaire avec fuite importante 4/4, végétation et des signes d'insuffisance cardiaque gauche.\n",
      "['10']\n",
      "Patient de 72 ans, aux antécédents d'insuffisance cardiaque sur terrain dyslipidémique, avec souffle systolique connu, sans trouble de la FEVG en 2017, SAOS appareillé, arthropathie microcristalline, incontinence urinaire. Hospitalisé depuis le 26/02/2018 suite à une hospitalisation du 19.02 au\n",
      "['10']\n",
      "L'endocardite est confirmée, il existe un délabrement valvulaire avec fuite importante 4/4, végétation et des signes d'insuffisance cardiaque gauche.\n",
      "['10']\n",
      "Impotence fonctionnelle majeur. Pas de signe d'insuffisance cardiaque clinique.\n",
      "['9']\n",
      "- Monsieur LACROIX Paul, Interne TA 151/68mmHg, FC 85bpm, Sat 96% en AA, FR 20, T° 36.8°C Pas d'évolution clinique. Disparition des signes de déshydratation. Pas de signe d'insuffisance cardiaque. Bonne diurèse. controle demain RAD lundi 30/03/2019 09:42\n",
      "['9']\n",
      "Nouselle série d'hémoc prélevé. Persistance signe d'insuffisance cardiaque. Réintroduction Lasilix.\n",
      "['10']\n",
      "Impotence fonctionnelle majeur. Pas de signe d'insuffisance cardiaque clinique.\n",
      "['9']\n",
      "- Monsieur LACROIX Paul, Interne TA 151/68mmHg, FC 85bpm, Sat 96% en AA, FR 20, T° 36.8°C Pas d'évolution clinique. Disparition des signes de déshydratation. Pas de signe d'insuffisance cardiaque. Bonne diurèse. controle demain RAD lundi 30/03/2019 09:42\n",
      "['9']\n",
      "Nouselle série d'hémoc prélevé. Persistance signe d'insuffisance cardiaque. Réintroduction Lasilix.\n",
      "['10']\n",
      "Episode d'hypotension motivant la suspension des traitements anti-hypertenseur lors de l'hospitalisaiton. Reprise progressive à la sortie, à réévaluer à distance. Sur le plan cardiaque : Apparition progressif de signes d'insuffisance cardiaque globale, majoration de la dyspnée d'effort et épisode de dyspnée nocturne. Augmentation des Nt-proBNP à\n",
      "['10']\n",
      "Episode d'hypotension motivant la suspension des traitements anti-hypertenseur lors de l'hospitalisaiton. Reprise progressive à la sortie, à réévaluer à distance. Sur le plan cardiaque : Apparition progressif de signes d'insuffisance cardiaque globale, majoration de la dyspnée d'effort et épisode de dyspnée nocturne. Augmentation des Nt-proBNP à\n",
      "['10']\n",
      "SYNTHESE DOSSIER PNEUMOLOGIE : Tableau de pneumopathie ayant entrainé un tableau d'insuffisance cardiaque globale sur FA rapide.\n",
      "['10']\n",
      "- Doliprane 1g : 1-1-1 EVENEMENTS DE LA PERIODE ( SNOMED 3.5 ) C2 nivolumab intercure : RAS pas de douleur art, pas de tb transit, pas de toux, pas de dyspnée DONNEES CLINIQUES poids 100kg, PS 1 -l'auscultation pulmonaire normale -bdc réguliers sans souffle, pas de signe d'insuffisance cardiaque -abdomen souple, indolore EXAMENS COMPLEMENTAIRES ET AVIS SPECIALISES\n",
      "['9']\n",
      "- NFS normale -ionogramme normal, creatinine 137umol/l. stable -calcémie corrigée normale -BH normal -TSH normale -albumine 36.6g/l SYNTHESE ET CONDUITE A TENIR C2 nivolumab C3 dans 15 jours IRMc + TAP 03/04 ETAT DU QUESTIONNAIRE ( SNOMED 3.5 ) 1-courrier définitif à éditer C2 nivolumab intercure : RAS pas de douleur art, pas de tb transit, pas de toux, pas de dyspnée poids 100kg, PS 1 -l'auscultation pulmonaire normale -bdc réguliers sans souffle, pas de signe d'insuffisance cardiaque -abdomen souple, indolore\n",
      "['9']\n",
      "A l’examen, l’auscultation de la prothèse aortique est normale. Il n’y a pas de signe d’insuffisance cardiaque.\n",
      "['9']\n",
      "Les antécédents comprennent essentiellement une PAR, une insuffisance cardiaque sur cardiopathie hypertensive et rythmique (AC/FA), une phlébite en mai 09, une ostéoporose vertébrale fracturaire.\n",
      "['10']\n",
      "clinique met en évidence des signes d'insuffisance cardiaque droits et gauches.\n",
      "['10']\n",
      "Bruits du cœur réguliers, pas de marbrures, mollets souples et indolores. pas de signes d'insuffisance cardiaque droite ni gauche\n",
      "['9']\n",
      "124/81 mm Hg, pas de signe d'insuffisance cardiaque ou de frottement péricardique, des fosses lombaires qui restent parfaitement souples... A la bandelette urinaire on ne retrouve qu'une protéinurie à l'état de traces, sans leucocytes et sans nitrites.\n",
      "['9']\n",
      "L’examen physique effectué ce jour ne retrouve aucun signe d’insuffisance cardiaque congestive.\n",
      "['9']\n",
      "- Bien qu’il n’y ait pas d’évolution de son statut fonctionnel (classe fonctionnelle II de la NYHA), l’insuffisance cardiaque doit certainement être évaluée par un test d’effort cardiorespiratoire avec mesure de la VO2 max, ainsi qu’une échocardiographie-Doppler.\n",
      "['10']\n",
      "Cliniquement, les bruits du cœur sont réguliers sans souffle, éclat du B2, pas de signe d’insuffisance cardiaque.\n",
      "['9']\n",
      "Pas de signe d'insuffisance cardiaque.\n",
      "['9']\n",
      "régulier et il n'y a pas de signe d'insuffisance cardiaque.\n",
      "['9']\n",
      "Pas de signe d'insuffisance cardiaque. Mollets souples et indolores. Pouls périphériques perçus sauf les pouls pédieux.\n",
      "['9']\n",
      "1/ an RA non serré sans Insuffisance cardiaque en 2020 autonome à domicile , pas d'aide , vit avec sa femme.\n",
      "['9']\n",
      "Examen cardiaque : bruits du cœur réguliers, pas de souffle entendu, pas de signe d'insuffisance cardiaque, pas de signe de thrombose veineuse profonde.\n",
      "['9']\n",
      "bilatéralement abdo : abdomen souple, facilement dépressible, pas de masse palpée, dleur spontanée de FID non exacerbée à la palpation pas de SF urinaire, dleur à l'ébranlement à droite, pas de contact lombaire cardio : BDC irréguliers sans souffle, pas de signe d'ICD ni ICG, pneumo : MV bilat et symétriques sans bruit surajouté, pas de SF au total, patient de 52 ans, aux ATCD de sciatiques droites multiples, présente depuis 3 jours lomboradiculalgies bilatérales à prédominance crurale droite (L3) hyperalgiques,non déficitaires, d'horaire inflammatoire. Associées à sd douloureux abdominal (+diarrhées et vomissements) évoluant depuis 3 mois.\n",
      "['9']\n",
      "- Insuffisance cardiaque à FEVG préservée\n",
      "['10']\n",
      "4/ Retour de la patiente en Ephad le 18/12/2020 Comorbidités et facteurs de risques pris en charge : Diabète, démence, Insuffisance cardiaque, BPCO Evènements\n",
      "['10']\n",
      "A l'examen clinique , on note des bruits du coeur tachycardes, irréguliers, et il n'est pas retrouvé de signe d'insuffisance cardiaque.\n",
      "['9']\n",
      "Il n'y a pas de signe d'insuffisance cardiaque droite ou gauche.\n",
      "['9']\n",
      "pas d'insuffisance cardiaque ;\n",
      "['9']\n",
      "- cardiopathie ischémique sur IDM inférieur compliqué BAV3 appareillé (PM puis DAI puis stimulateur atrio-ventriculaire fin 2012) et d'Insuffisance cardiaque chronique suivi cardio en ville, derniere echo janvier 2014\n",
      "['10']\n",
      "- cardiopathie ischémique sur IDM inférieur compliqué BAV3 appareillé (PM puis DAI puis stimulateur atrio-ventriculaire fin 2012) et d'Insuffisance cardiaque chronique suivi cardio en ville, derniere echo janvier 2014\n",
      "['10']\n",
      "Aucun signe clinique d'insuffisance cardiaque gauche ou droite. Pression artérielle 125/80.\n",
      "['9']\n",
      "Il n'existe pas de signe d'insuffisance cardiaque congestive.\n",
      "['9']\n",
      "CARDIO PNEUMO MV+/+ BdC réguliers sans bruits surajoutés pas de signes d'insuffisance cardiaque ABDO abdomen souple dépressible indolore, pas de troubles du transit sonde urinaire à demeure\n",
      "['9']\n",
      "- Insuffisance cardiaque gauche minime avec crépitants aux deux bases avec FR = 24\n",
      "['10']\n",
      "Pas de signe d'insuffisance cardiaque droite ou gauche.\n",
      "['9']\n",
      "Sur le plan cardiopulmonaire, auscultation cardiopulmonaire normale. Pas de signe d’insuffisance cardiaque. Mollets souples.\n",
      "['9']\n",
      "en janvier 2017: pei de critère de fragilité, peu de tbl cognitif, MMSE 23/30, poids 69.3kg albu 37g/L creat 104 --> ce jour: sd confusionnel depuis 24h, avec hallucinations visuelles, non anxiogène, DST, agitation avec arrache SNG et perf, tbl attentionnel pas de signe de localisaiton neuro, pas de sd extra pyramidal tachycardie régulière sans signe d'IC, mollets souple, abdo souple, pas de globe, SAD double courant crépitants base G, sans signe de détresse respi\n",
      "['9']\n",
      "en janvier 2017: pei de critère de fragilité, peu de tbl cognitif, MMSE 23/30, poids 69.3kg albu 37g/L creat 104 --> ce jour: sd confusionnel depuis 24h, avec hallucinations visuelles, non anxiogène, DST, agitation avec arrache SNG et perf, tbl attentionnel pas de signe de localisaiton neuro, pas de sd extra pyramidal tachycardie régulière sans signe d'IC, mollets souple, abdo souple, pas de globe, SAD double courant crépitants base G, sans signe de détresse respi\n",
      "['9']\n",
      "Insuffisance cardiaque Démence\n",
      "['10']\n",
      "Insuffisance cardiaque Démence Evènements\n",
      "['10']\n",
      "- insuffisance cardiaque par cardiopathie hypertensive.\n",
      "['10']\n",
      "- insuffisance cardiaque par cardiopathie hypertensive.\n",
      "['10']\n",
      "pas de douleur tho; pas de signe d'insuff cardiaque appel cardio, patient non sous kardegic, me rappelle après avis de son chef 07/02/2020 00:18\n",
      "['9']\n",
      "- Monsieur LE BRAS Fabrice, Interne Stable sous 4L O2 LN Pas de signe de lutte, calme. Pas de cyanose, pas de sueurs Bonne hémodynamique, non tachycartde. Pas de défaillance vasculaire, pas de signe d'insuffisance cardiaque. MV diminué en base gauche, ronchis par ailleurs. Pas de trouble de vigilance Bio prévue demain. Pas de germe au direct sur liquide de ponction 10/02/2020 09:37\n",
      "['9']\n",
      "Examen clinique : Cardio : BDC bien perçus, réguliers, pas de souffle, pas de BSA, pas de signes en faveur d'une IC, pas d'arguments pour une TVP, pouls pédieux +/+\n",
      "['9']\n",
      "pas de douleur tho; pas de signe d'insuff cardiaque appel cardio, patient non sous kardegic, me rappelle après avis de son chef 07/02/2020 00:18\n",
      "['9']\n",
      "Anne Aurielle, Interne BDC reg, pas de souffle, pas de signes d'IC MV+/+, ronchis++, pas de spasticité Pas de foyer auscultatoire franc?\n",
      "['9']\n",
      "- Madame BILLY Claire, Interne revu mieux, maintien sat correcte à3L aux lunettes cliniqueent pas de signes de gravité , pas de signe d'insuff cardique\n",
      "['9']\n",
      "- Monsieur LE BRAS Fabrice, Interne Stable sous 4L O2 LN Pas de signe de lutte, calme. Pas de cyanose, pas de sueurs Bonne hémodynamique, non tachycartde. Pas de défaillance vasculaire, pas de signe d'insuffisance cardiaque. MV diminué en base gauche, ronchis par ailleurs. Pas de trouble de vigilance Bio prévue demain. Pas de germe au direct sur liquide de ponction 10/02/2020 09:37\n",
      "['9']\n",
      "Apyrétique. PA = 105/75 mmHg, FC = 106 bpm. Mise sous oxygénothérapie 1 L / min. Râles bronchiques aux bases, pas de crépitants. Toux avec expectorations verdâtres. Pas de signe d'insuffisance cardiaque droite ou gauche.\n",
      "['9']\n",
      "Apyrétique. PA = 105/75 mmHg, FC = 106 bpm. Mise sous oxygénothérapie 1 L / min. Râles bronchiques aux bases, pas de crépitants. Toux avec expectorations verdâtres. Pas de signe d'insuffisance cardiaque droite ou gauche.\n",
      "['9']\n",
      "Cardilogie : Bruits du cœur réguliers, sans souffle. Pas de signe d'insuffisance cardiaque droite ni gauche.\n",
      "['9']\n",
      "Cardilogie : Bruits du cœur réguliers, sans souffle. Pas de signe d'insuffisance cardiaque droite ni gauche.\n",
      "['9']\n",
      "- pas de signes d'insuffisance cardiaque\n",
      "['9']\n",
      "plutot coopérant pour l'examen pas de douleurs CV : pas de SF auscultation : bdc réguliers pas de souffle pas de signes d'ins cardiaque neuro : pas de déficit sensitivo-moteur focalisé ROT + et sym pas de BBK pas de déficit des paires craniennes pupilles sont symétriques , pupilles G un peu moins réactive?\n",
      "['9']\n",
      "Au matin du 28/01/12, l'état de Monsieur [NOM_PATIENT] va à nouveau se dégrader, celui-ci va en effet présenter un tableau d'oedème aigu pulmonaire sur insuffisance cardiaque nécessitant son transfert en USI.\n",
      "['10']\n",
      "Bruits du cœur réguliers, sans souffle, pas de signe d'insuffisance cardiaque ou de thrombose veineuse profonde.\n",
      "['9']\n",
      "IL n'y a pas de signe d'insuffisance cardiaque.\n",
      "['9']\n",
      "physique ne retrouve aucun signe d'insuffisance cardiaque. La pression artérielle est à 108/71 mmHg, et la fréquence cardiaque de repos à 60 par minute.\n",
      "['9']\n",
      "- Insuffisance cardiaque par cardiopathie hypertensive.\n",
      "['10']\n",
      "bien toléré. Absence de signe d'insuffisance cardiaque droite ou gauche.\n",
      "['9']\n",
      "bien toléré. Absence de signe d'insuffisance cardiaque droite ou gauche.\n",
      "['9']\n",
      "Cardiopulmonaire : Bruits du cœur réguliers, pas de souffle, pas de signe d'insuffisance cardiaque. Meilleurs vésiculaires bilatéraux et symétriques sans bruits surajoutés Digestif : Abdomen souple dépressible indolore, pléthorique. Présence de quelques épisodes de diarrhées depuis la mise sous Pyostacine.\n",
      "['9']\n",
      "Cardiopulmonaire : Bruits du cœur réguliers, pas de souffle, pas de signe d'insuffisance cardiaque. Meilleurs vésiculaires bilatéraux et symétriques sans bruits surajoutés Digestif : Abdomen souple dépressible indolore, pléthorique. Présence de quelques épisodes de diarrhées depuis la mise sous Pyostacine.\n",
      "['9']\n",
      "régulier présence d'un S1 Q3.Une échographie trans- thoracique récente a été réalisée par son cardiologue, le Docteur PEPIN, retrouvant une bonne fonction cardiaque droite et gauche.\n",
      "['9']\n",
      "Cardio bdc irréguliers,pas de souffles pas de signes d'insuffisance cardiaque droite ni gauche\n",
      "['9']\n",
      "Cardio bdc irréguliers,pas de souffles pas de signes d'insuffisance cardiaque droite ni gauche\n",
      "['9']\n",
      "- pas de signes d'insuffisance cardiaque\n",
      "['9']\n",
      "Intensité 3/6, PAs d'abolition du B2 -Pas de signes d'IC D (pas de TJ, pas d'HSM, pas d'OMI) ni G (pas de tachycardie, pas de dyspnée)\n",
      "['9']\n",
      "Intensité 3/6, PAs d'abolition du B2 -Pas de signes d'IC D (pas de TJ, pas d'HSM, pas d'OMI) ni G (pas de tachycardie, pas de dyspnée)\n",
      "['9']\n",
      "Il n'y a pas d'asthénie plus marquée et sur le plan cardiovasculaire, pas de manifestation évocatrice d'une insuffisance cardiaque, pas de douleur thoracique, de palpitations ou bien de malaise.\n",
      "['9']\n",
      "Il n'y a pas à l'évidence de composante d'insuffisance cardiaque ce jour.\n",
      "['9']\n",
      "I50.1 / OAP avec Insuffisance cardiaque gauche PRESCRIPTION DES TRAITEMENTS Prescriptions hospitalières: Statut Voie Livret Prescription\n",
      "['10']\n",
      "- Doliprane 1g : 1-1-1 EVENEMENTS DE LA PERIODE ( SNOMED 3.5 ) C1 nivolumab pas de plainte fonctionelle DONNEES CLINIQUES poids 100, PS 1 -l'auscultation pulmonaire qq sibilants -bdc réguliers sans souffle, pas de signe d'insuffisance cardiaque -abdomen souple, indolore -pas de douleurs osseuses -pas de signe de TVP EXAMENS COMPLEMENTAIRES ET AVIS SPECIALISES\n",
      "['9']\n",
      "prévoir consultation IDE annonce ETAT DU QUESTIONNAIRE ( SNOMED 3.5 ) 1-courrier définitif à éditer C1 nivolumab pas de plainte fonctionelle poids 100, PS 1 -l'auscultation pulmonaire qq sibilants -bdc réguliers sans souffle, pas de signe d'insuffisance cardiaque -abdomen souple, indolore -pas de douleurs osseuses -pas de signe de TVP La biologie retrouve :\n",
      "['9']\n",
      "Pas de signes d'insuffisance cardiaque\n",
      "['9']\n",
      "répétition pour ce seul motif, devant une insufisance cardiaque temrinale sans projet thérapeutique...\n",
      "['10']\n",
      "répétition pour ce seul motif, devant une insufisance cardiaque temrinale sans projet thérapeutique...\n",
      "['10']\n",
      "Dyspnée depuis environ 15 jours sans insuffisance cardiaque sous-jacente. Augmentation des LDH.\n",
      "['9']\n",
      "Bdc réguliers, accélérés, pas de souffles. pas de signes d'insuffisance cardiaque droite ni gauche.\n",
      "['9']\n",
      "Il n'y a pas de signe clinique d'insuffisance cardiaque.\n",
      "['9']\n",
      "Il n'y a pas de signe d'insuffisance cardiaque, ni de phlébite.\n",
      "['9']\n",
      "Cliiquement: apyretique hemodynamique stable pa sde marbrure TRC<3s pas de froideur des extermités cardio respi : pa sde dlr th oaps de sigen d'IC MV+/+ pa sde cyanose pa sde signe de lutte abdo soupel pa sde defnsep a sde conytracture pa sd'ictere pa sde masse palpée pa sde SFU PAs de fecalome pa sde melena pa sde trb du tarnsit abdo parfaitement souple pa sde vomissement pas de nausée Devant surveillance prolongée sans douleur pa sde vomissment pa sde saignement pa sd'exteriorisatio npa sde deglobulisation, bio snas particularité, IPP déjà en place et patiente refusant de rester hospit => Ok pour retour à l'EPHAD avec consigne de securité données par ORL et à l'ecrit.\n",
      "['9']\n",
      "pas de signe d'insuffisance cardiaque ;\n",
      "['9']\n",
      "CARDIO BDC réguliers, éclat du B2 Pas de signes d'IC Pas de signe de TVP\n",
      "['9']\n",
      "CARDIO BDC réguliers, éclat du B2 Pas de signes d'IC Pas de signe de TVP\n",
      "['9']\n",
      "Auscultation cardiopulmonaire : Claire, symétrique, souffle cardiaque connu, pas de signe d'insuffisance cardiaque, auscultation régulière.\n",
      "['9']\n",
      "Examen cardio vasculaire : bruits du cœur régulier, absence de souffle, pas d'œdème aux membres inférieurs, pas de signe d'insuffisance cardiaque. Pouls périphériques perçus.\n",
      "['9']\n",
      "Non Antécédents personnels: Chirurgicaux: -Invagination intestinale aigue à 3 mois -Canal carpien D -Hernie discale en 2001 -87 : AVP avec opé de l'épaule Dte -polypes intestinaux multiples opéraations ( à Cesson ) derniere colo nle 2011 -Chirurgie prostatique en 2004 (RTUP sur adénome prostatique)à -opé épaule G pour lésion nerveuse, sans récupération -Implantation de stimulateur cardiaque en avril 2018 pour BSA complet Médicaux: -Coronaropathie, insuffisance cardiaque -Diabète type 2 -Angioplastie bilatérale des artères rénales en Janvier 2018 -Maladie de Horton 2005 suivi Dr\n",
      "['10']\n",
      "ATCD= -Implantation de stimulateur cardiaque en avril 2018 pour BSA complet Médicaux: -Coronaropathie, insuffisance cardiaque\n",
      "['10']\n",
      "Patient de 60 ans Antécédents : Radiotherapie de prostate pour cancer de prostate en 2009.( urologue : Dr OLIVO à st gregoire) PSA en décembre 2014 inférieur à 0.05 Insuffisant cardiaque. Oh chronique 1 épisode d'hématurie avec caillots il y a 1 mois, résolu en 48h spontanément. Echographie réno vésicale normale. Nouvelle hématurie avec caillots. Déglobulisation 8.8 g/dL vs 15 g/dL en décembre 2014.\n",
      "['10']\n",
      "Thrombopenie sera à recontroler dans 1 semaine, et à explorer en externe Patient de 60 ans Antécédents : Radiotherapie de prostate pour cancer de prostate en 2009.( urologue : Dr OLIVO à st gregoire) PSA en décembre 2014 inférieur à 0.05 Insuffisant cardiaque. Oh chronique 1 épisode d'hématurie avec caillots il y a 1 mois, résolu en 48h spontanément. Echographie réno vésicale normale. Nouvelle hématurie avec caillots. Déglobulisation 8.8 g/dL vs 15 g/dL en décembre 2014.\n",
      "['10']\n",
      "A l'auscultation cardiaque : souffle aortique, absence de signe d'insuffisance cardiaque.\n",
      "['9']\n",
      "- Cardio-pulmonaire : bruits du cœur réguliers, sans souffle perçu, pas de signe d'insuffisance cardiaque, auscultation pulmonaire claire des 2 champs pulmonaires, sans bruit surajouté, pas de dyspnée, ni de toux.\n",
      "['9']\n",
      "- signes d'IC droits à minima TJ, très légers OMI pas de crépitants\n",
      "['10']\n",
      "- signes d'IC droits à minima TJ, très légers OMI pas de crépitants\n",
      "['10']\n",
      "Interprétation ECG 28/01/2015 21:51 28/01/2015 21:51 A faire DIAGNOSTICS (29/01 18:00 JB Jacques BOUGET) CCMU: III: Etat pouvant s'aggraver au S.U. sans mise en jeu pronostic vital Diagnostic principal SAU: I50.9 / Insuffisance cardiaque Diagnostics associés: J96.0 Insuffisance respiratoire aiguë (IRA) OAP hypercapnique sur poussée HTA et contexte d'hypothermie ( ECBU envoyé ) Patiente tétraparétique sur un trauma\n",
      "['10']\n",
      "Pas de signe d'insuffisance droite ou gauche.\n",
      "['9']\n",
      "Pas de signe d'insuffisance droite ou gauche.\n",
      "['9']\n",
      "Pas de signe d'IC, BDC masqués par les sibilants.\n",
      "['9']\n",
      "Pas de dyspnée d'effort, peut monter 2 étages. Bdc réguliers, pas de signe d'IC droite ou gauche Marche quand il fait beau : 2-3fois/sem\n",
      "['9']\n",
      "régulier à 54/mn, sans signe clinique d'insuffisance cardiaque, une fosse lombaire droite parfaitement souple et indolore, sans souffle abdominal.\n",
      "['9']\n",
      "AM/CP Consultation du 11/04/2012 Cher Ami, Vous avez récemment pris en charge Monsieur [NOM_PATIENT] [PRENOM_PATIENT] né le [JJ]/[MM]/1954 , âgé de 57 ans , pour bilan cardiologique et retenu une indication à un traitement per cutané de son insuffisance.\n",
      "['10']\n",
      "Le patient a une dyspnée 2 à 3/4, mais surtout une anorexie et une altération de l'état général qui prennent le pas sur l'insuffisance cardiaque qui cliniquement n'est pas évidente.\n",
      "['10']\n",
      "Toux séche quotidienne associée à des expectorations claires, qui exacerbe les douleurs rachidiennes. Bruits du coeur réguliers, pas de souffle, pas de signes d'insuffisance cardiaque droite ou gauche.\n",
      "['9']\n",
      "Toux séche quotidienne associée à des expectorations claires, qui exacerbe les douleurs rachidiennes. Bruits du coeur réguliers, pas de souffle, pas de signes d'insuffisance cardiaque droite ou gauche.\n",
      "['9']\n",
      "Sur le plan cardiovasculaire, pas de douleur thoracique ni de manifestation évocatrice d'une insuffisance cardiaque.\n",
      "['9']\n",
      "sans particularité. Absence de signe d'insuffisance cardiaque droite ou gauche.\n",
      "['9']\n",
      "POSE DE SCOPE THAON Marie 10/02/22 15:30 10/02/22 15:30 10/02/22 15:38 EVOLUTION (10/02/2022 20:22 KV KAM Valentin (Interne) ) Cliniquement, sat 88% sous 10L/min FR 45, hyperthermie 38.0 polypnée FR 45, extrémités chaudes pas de marbrures pli cutané, muqueuses sèches patient confus somnolent G13 , réveillable à la stimulation verbale pupilles IRS bouge les 4mb, pas de déficit BDC sont réguliers, pas de souffle audible, pas de douleur thoracique pas d'OMI, pas de signe de TVP, pas de signe d'insuffisance cardiaque droite MV retrouve des crépitants basaux à droite et jusqu'à mi champ à gauche, polypnée avec respiration abdominale, pas de sueurs ni cyanose Abdomen SDI, dernières selles ?;\n",
      "['9']\n",
      "Examen cardio : Bdc reguliers, RA d'intensité 3/6, signe d'insuffisance cardiaque droite (TJ), pas de signe d'insuffisance cardique gauche\n",
      "['9']\n",
      "Bruits du cœur réguliers, pas de souffle audible. Pas de signes d'insuffisance cardiaque droite.\n",
      "['9']\n",
      "- pas de signe d'insuffisance cardiaque droite\n",
      "['9']\n",
      "Oedèmes des membres inférieurs, remontant jusqu'en haut des cuisses et le bas du ventre. Pas de turgescence jugulaire, donc non en faveur d'une insuffisance cardiaque droite.\n",
      "['9']\n",
      "Oedèmes des membres inférieurs, remontant jusqu'en haut des cuisses et le bas du ventre. Pas de turgescence jugulaire, donc non en faveur d'une insuffisance cardiaque droite.\n",
      "['9']\n",
      "Pas d'argument pour insuffisance cardiaque droite. Traitement symptomatique par diurétiques. 2-\n",
      "['9']\n",
      "Pas d'argument pour insuffisance cardiaque droite. Traitement symptomatique par diurétiques. 2-\n",
      "['9']\n",
      "Décompensation cardiaque à prédominance gauche pris en charge à St Laurent en 2009\n",
      "['10']\n",
      "Allergies: non Antécédents personnels: Chirurgicaux: appendicectomie Médicaux: bioprothèse aortique insuffisance cardiaque\n",
      "['10']\n",
      "Motif d�examen : Bilan d�IRC avec rétention hydrosodée. Antécédents : DT2 coronaropathie AOMI avec endartériectomie des trépieds fémoraux et pontage bilatéraux en 2013 avec sténose du pontage fémoro-poplité droit (thrombectomie et endoprothèse) maladie de Horton IRC flutter auriculaire chir prostatique anémie- insuffisance cardiaque\n",
      "['10']\n",
      "général. Apyrétique. Pas d'adénopathies. Cardio : bruits du coeur réguliers, pas de souffle, pas d'insuffisance cardiaque. Pneumo : murmure vésiculaire bilatéral symétrique, pas de toux ni expectoration ni bruits surajoutés.\n",
      "['9']\n",
      "L'auscultation de la prothèse aortique est normale. Il n'y a pas de signe périphérique d'insuffisance cardiaque.\n",
      "['9']\n",
      "pas d'ins. cardiaque.\n",
      "['9']\n",
      "décompensation cardiaque gauche\n",
      "['10']\n",
      "Hyponatremie profonde.Décompensation cardiaque globale.\n",
      "['10']\n",
      "hépatique est l'insuffisance cardiaque à haut débit.\n",
      "['10']\n",
      "décompensation cardiaque traitée médicalement.\n",
      "['10']\n",
      "Examen cardio vasculaire sans particularité,pas de signe d'IC, pas d'OMI, pas de signe de TVP.\n",
      "['9']\n",
      "- Cliniquement : discours non cohérent, désorientation spatio-temporelle, douloureux à la mobilisation. Membre inférieur droit en rotation externe, adduction et raccourcissement. Souffle systolique, pas de signe d'insuffisance cardiaque.\n",
      "['9']\n",
      "Douleur EN8/10 localisée à gauche du nombril. Pas de signe d'hypoperfusion, auscultation claire symétrique, BdC réguliers, pas de souffle, pas de signe d'IC, abdomen souple, douloureux en périombilical sans franche défense. Poursuite antalgie, et surveillance tensionnelle simple. A 2h30 : EN8/10.\n",
      "['9']\n",
      "Valeur habituelle Biologie courante Bact: ECBU EXAMEN IMAGERIE Examen Côté Demandé le Pour le Fait le Interprétation RX. THORAX FACE (RADIO RP = RT) 19/05/2013 20:01 19/05/2013 20:01 fait le 19/05/2013 20:31 par vivier antoine EXAMEN COMPLÉMENTAIRE DIAGNOSTICS (19/05 22:40 VA vivier antoine) CCMU: III: Etat pouvant s'aggraver au S.U. sans mise en jeu pronostic vital Diagnostic principal SAU: I50.9 / Insuffisance cardiaque, sans précision Diagnostics associés: R65.9\n",
      "['10']\n",
      "L'échocardiographie à l'entrée retrouve une dysfonction bi ventriculaire avec une FEVG aux alentours de 40% et un ventricule droit dilaté.\n",
      "['10']\n",
      "Camille 02/12/2020 à 23:26: Lasilix 40mg fait + aérosols salbu/ipra: se sent mieux sur le plan respiratoire, n'est plus polypnéique, plus de sibilant à l'auscultation, MV diminué aux 2 bases > Surveillance diurèse > Hospitalisation en cardio pour probable dyspnée sur décompensation cardiaque\n",
      "['10']\n",
      "- Insuffisance cardiaque aigue quand ?\n",
      "['10']\n",
      "Pas de signe d'insuffisance cardiaque.\n",
      "['9']\n",
      "- Cardiopathie ischémique sur IDM inférieur en 2000 compliqué d'un BAV3 appareillé (PM puis DAI puis stimulateur atrio-ventriculaire fin 2012) et d'une insuffisance cardiaque chronique, suivi cardio en ville, derniere ETT en février 2018 FEVG a 45%, avec changement du PM à 2 reprises pour des endocardites (1ère endocardite sur sonde en 2008 avec ablation du pace-maker et post d'un DAI atrio-biventriculaire, cultures positives à staphylococcus épidermidis, 2ème endocardite sur sonde à l'étage atriale en octobre 2012 avec ablation du DAI et réimplantation contro-latérale, cultures positives à propionibacterium acnes.)\n",
      "['10']\n",
      "Douleur thoracique atypique Insuffisance cardiaque NYHA Classe I Ischémie Scintigraphie positive Douleur thoracique atypique NYHA Classe I Scintigraphie positive Indication(s) Insuffisance coronaire Insuffisance coronaire Allergie(s) ( SNOMED 3.5 ) ( SNOMED 2 ) ( CIM9 )\n",
      "['10']\n",
      "02/12/2020 20:33 Fait (Urgence) (Planification confirmée) par MERDRIGNAC Solène le 02/12/2020 20:33 Signes cliniques dyspnée chez un patient insuffisant cardiaque\n",
      "['10']\n",
      "Patient hospitalisé depuis qq jours pour bilan d'AEG et exacerbation de BPCO à Chantepie, devant l'apparition de signes de sevrage le patient est mais sous valium induisant des troubles de conscience G12 puis une inhalation probable le 11/03, le patient est alors mis sous Augmentin et Anexate, légère amélioration sur le plan neuro puis hier soir, retrouvé inconscient, aurait fait un ACR suite à une salve de TV, massé pendant 15min, pas de CEE, pas d'injection d'adré puis rfécupération spontanée d'un rythme... A la prise en charge SMUR, patient somnolent mais conscient ezn défaillance respiratoire satb le sous O2, salves d'ESV sur le tracé A l'arrivée au déchocage à 2h: G14, défaillance HD et respi Tach 120 (passage de qq sefcondes à 50/min puis retoiur FC 120), PAM 55, apparition de marbrures des genoux, sat 80 sous 9L O2, pas de cyanose Apyrétique BDC irréguliers sans souffle pas de signes d'ICD et G pli cutané MV+/+, ronchis bilat+++ Abdo N poas de sueurs, flapping non testable ETT de débrouillage: Bonne contractilité, péricarde sec, VCI aplatie\n",
      "['9']\n",
      "- SAOS + participation centrale sur insuffisance cardiaque, en refus d'appareillement (Cs Pr. DESRUES 2017)\n",
      "['10']\n",
      "Poids stable 77kg. MV +/+ sans BSA BDC réguliers sans souffle pas de signes d'IC , pas de signes de TVP EXAMENS COMPLEMENTAIRES ET AVIS SPECIALISES\n",
      "['9']\n",
      "Pas de signe d’insuffisance cardiaque droite ni gauche, pas de signes de thrombose veineuse profonde.\n",
      "['9']\n",
      "Tremblements d'action des MS Eupnéique AA, pas de foyer auscultatoire, pas de toux Bdc réguliers, souffle IAo, pas de DT, pas de signe d'ICD/G Abdo SDI, BHA+, pas de RAU clinique, transit ok AU TOTAL Confusion aigue sans point d'appel infectieux évident.\n",
      "['9']\n",
      "Suite à l'échange avec l'équipe sur la situation de Mme [NOM_PATIENT] et la notion de décompensation cardiaque sèvère il y a qqs jours, nous nous pérsentons\n",
      "['10']\n",
      "postérieure => implantation d'un stent actif Poids (kg) ( SNOMED 3.5 ) ( SNOMED 2 ) 95 Taille (cm) ( SNOMED 3.5 ) ( SNOMED 2 ) 172 IMC 32,11 PA systolique (mmHg) ( SNOMED 3.5 ) 151 PA diastolique (mmHg) ( SNOMED 3.5 ) 78 Fréquence cardiaque ( SNOMED 3.5 ) ( SNOMED 2 ) 72 ECG RSR QRS fin ST + inferieur Examen clinique bdc regulier sans souffle pas de signe d'IVG/IVD pouls periph perçus 4 mbs pas de souffle vasculaire peripherique pas de signe de MTEV\n",
      "['9']\n",
      "Il existe des signes d'insuffisance cardiaque droite (reflux hépato jugulaire et œdèmes des membres inférieurs).\n",
      "['10']\n",
      "Hospitalisé depuis le 30/10/2018 à St-Malo pour décompensation cardiaque.\n",
      "['10']\n",
      "Les bruits du cœur sont irréguliers sans souffle entendu. Pas de signe d'insuffisance cardiaque.\n",
      "['9']\n",
      "Il semble qu’elle ait développé de la fibrillation atriale paroxystique (un traitement par Flécaïne avait été mis en place) et elle a été récemment hospitalisé au mois de mars 2016 au CHU de Rennes dans le contexte d’un épisode de fibrillation atriale associé à des manifestations d’insuffisance cardiaque, mais elle ne recevait pas de traitement bêtabloquant.\n",
      "['10']\n",
      "cohérent orienté dans le temps et dans l'espace bruits du cœur réguliers, pas de souffle, pas de signe d'IC droite ni gauche mollets souples indolores, pas de signe de TVP auscultation pulmonaire claire, sans bruit surajouté pas de toux pas de crachat pas de dyspnée ni douleur thoracique\n",
      "['9']\n",
      "de macroglossie ou de purpura -Souffle diastolique plutôt à prédominance mitrale, pas de signe d'absence cardiaque droite ni gauche\n",
      "['9']\n",
      "de macroglossie ou de purpura -Souffle diastolique plutôt à prédominance mitrale, pas de signe d'absence cardiaque droite ni gauche\n",
      "['9']\n",
      "Examen clinique d'entrée asthénie , amaigrissement (aurait perdu 8 kg en qq mois) discrète paleur. pas de douleur d'angor , BDC réguliers, pas de souffle, pas de DC droite ou gauche , dyspnée à l'effort quand monte un escalier., pouls périph perçu. pas de toux , pas de foyer à l'auscultation, abdomen sensible et douloureux en hypogastre, hématurie macroscopique (vue) pas de troubles du transit pollakiurie nocturne (10 fois /nuit ) avec fuites urinaires pas de brulure mictionnelle pas de douleur loges rénales. TR , dure irrégulière?.\n",
      "['9']\n",
      "asthénie , amaigrissement (aurait perdu 8 kg en qq mois) discrète paleur. pas de douleur d'angor , BDC réguliers, pas de souffle, pas de DC droite ou gauche , dyspnée à l'effort quand monte un escalier., pouls périph perçu. pas de toux , pas de foyer à l'auscultation, abdomen sensible et douloureux en hypogastre, hématurie macroscopique (vue) pas de troubles du transit pollakiurie nocturne (10 fois /nuit ) avec fuites urinaires pas de brulure mictionnelle pas de douleur loges rénales. TR , dure irrégulière?.\n",
      "['9']\n",
      "Examen cardiologique : Bruits du cœur perçus, réguliers, pas de souffle cardiaque. Pouls périphériques perçus. Pas de signe d'insuffisance cardiaque.\n",
      "['9']\n",
      "Etat clinique à l'entrée -cardio : bdc réguliers, pas de souffle, pas de signe IC, pas de signe de TVP, marbré MI, pouls periph percus. -respi : murmure vésiculaire\n",
      "['9']\n",
      "-cardio : bdc réguliers, pas de souffle, pas de signe IC, pas de signe de TVP, marbré MI, pouls periph percus. -respi : murmure vésiculaire\n",
      "['9']\n",
      "laetitia) Motif d'entrée: susp épanchement pleural Priorisation: 3. Urgent Type circuit: Circuit long Circonstances: Envoi médecin extérieur Famille: Présente Conjoint Observations: Se présente avec une ordo du med trt pour une demande de radio thorax suite poussée d'insuf cardiaque pour recherche d'épanchement\n",
      "['10']\n",
      "Violences physiques et psychologiques Commentaire : atcd= insuf cardique\n",
      "['10']\n",
      "Bruz ( Dr LE GAC ) : insuffisance cardiaque découverte il y'a 5 mois.\n",
      "['10']\n",
      "Examen cardio vasculaire sans particularité,pas de signe d'IC, pas d'OMI, pas de signe de TVP.\n",
      "['9']\n",
      "Décompensation cardiaque à prédominance gauche pris en charge à St Laurent en 2009\n",
      "['10']\n",
      "- Polypnée à 32 respi./min sans signe de lutte, foyer de crépitants en base gauche, toux productive avec expectorations blanchâtres, - Pas de défaillance hémodynamique, pas de signe d'insuffisance cardiaque droite/gauche, pas de signe de thrombose veineuse profonde.\n",
      "['9']\n",
      "Il n'y a pas de signe d'insuffisance cardiaque.\n",
      "['9']\n",
      "Il n'y a aucun signe d'insuffisance cardiaque.\n",
      "['9']\n",
      "Les aires ganglionnaires sont libres à la palpation. Les bruits du coeur sont réguliers, pas de souffle entendu, pas de signe de décompensation cardiaque gauche ni droite. La radiographie de thorax réalisée en avril 2011permet de retrouver, en particulier sur le profil, une augmentation de l'espace clair rétro-sternal et rétro-cardiaque avec un aspect d'aplatissement de la coupole diaphragmatique. La radiographie de face réalisée ce jour retrouve une trame sans anomalie, un coeur de taille normale, les culs-de-sac sont libres ;\n",
      "['9']\n",
      "CARDIO : Bruits du cœur irréguliers, tachycarde, pas de souffle perçu, pas de signe d'insuffisance cardiaque gauche ni droite, pas de notion de douleur thoracique.\n",
      "['9']\n",
      "décompensation cardiaque gauche + insuffisance rénale aggravative (créatinine 07/2017=127 μmol/l ;\n",
      "['10']\n",
      "Pas de signe de décompensation cardiaque.\n",
      "['9']\n",
      "Apparemment, la fibrillation atriale a été responsable de fréquences ventriculaires rapides en 2006, ayant conduit à un syndrome d'insuffisance cardiaque congestive (hospitalisation à la Clinique ST LAURENT).\n",
      "['10']\n",
      "Pose Bracelet : oui Echelle douleur retenue : EN, EN : 0 ANAMNÈSE (11/12/2016 14:59 PP POISSEL Priscilla) adressée par EHPAD devant majoration d'une dyspnée cette nuit patient présentant une dyspnée d'effort NYHA III sur insuffisance cardiaque chronique + BPCO aurait présenté des signes de lutte avec cyanose ce matin constaté par IDE,Sp02 91% mis sous 3L d'O2 fébricule à 38.2°C à l'EHPAD, apyrétique à l'arrivée mis sous antibiotiques (Augmentin) du 01 au 07/12 pour bronchite ?\n",
      "['10']\n",
      "décompensation cardiaque sur terrain cardiopathe +\n",
      "['10']\n",
      "Diagnostic principal SAU: I50.0 / Insuffisance cardiaque congestive (droite/globale)) poussée d'insuffisance cardiaque sur sd infectieux (exacerbation BPCO) et sur cardiopathie évoluée amélioration sous lasilix IV majoration lasilix sur 3 jours puis reprise dosage habituel antibiothérapie par C3G 10 jours + kiné\n",
      "['10']\n",
      "décompensation cardiaque globale sur exacerbation de BPCO ?\n",
      "['10']\n",
      "Nom du senior : Gangloff Conclusion : Dyspnée mixte associant insuffisance cardiaque globale dans contexte de bronchopathie infectieuse chez patient insuffisant cardiaque et BPCO -Insuffisance\n",
      "['10']\n",
      "- - un examen clinique des signes d'insuffisance cardiaque droite modérée une radio thoracique retrouvant une discrète surcharge bilatérale un bilan biologique :\n",
      "['10']\n",
      "CARDIO / HEMODYNAMIQUE constantes ok apyrexie bruits du coeur reguliers, pas de souffle perçus, pas de signe IC droite ou gauche pas de signe de malperfusion périphérique : TRC < 3 sec, extrémités chaudes, pas de marbrure\n",
      "['9']\n",
      "décompensation cardiaque avec FA rapide Antécédents\n",
      "['10']\n",
      "décompensation cardiaque avec FA rapide\n",
      "['10']\n",
      "decompensation cardiaque gauche.\n",
      "['10']\n",
      "Pas de crachat. Pas de dyspnée, pas de douleur thoracique. Cliniquement, auscultation pulmonaire claire, pas de décompensation cardiaque.\n",
      "['9']\n",
      "- Bdc lent à 50/min, à peine perçus, sans bruit surajouté, sans signe d'insuffisance cardiaque dte/gche CONSTANTE (31/03/2017 13:17 AH Annelise HOCHET) 31/03/2017 11:25 31/03/2017 08:59 31/03/2017 08:56 Surveillances Integrité bracelet PA Syst. (mmHg) PA Diast. (mmHg) PA Moy. (mmHg) FC (/mn) Temp (°C)\n",
      "['9']\n",
      "Cardio : Bdc réguliers,pas de souffle, pas de signe d'insuffisance cardiaque\n",
      "['9']\n",
      "prédominanace droite avec nombreuses décompensations cardiaques globales en post opératoire de la valve aortique.\n",
      "['10']\n",
      "prédominanace droite avec nombreuses décompensations cardiaques globales en post opératoire de la valve aortique.\n",
      "['10']\n",
      "- Pas de signe d'IC\n",
      "['9']\n",
      "clinique d'entrée retrouve : Le patient hémodynamiquement stable, apyrétique toute la durée de l'hospitalisation, bruits du cœur réguliers, sans souffle, pas de signe d'insuffisance cardiaque, pas de signe de thrombose veineuse profonde, pouls périphériques perçus aux quatre membres.\n",
      "['9']\n",
      "Décompensation cardiaque gauche sans facteur déclenchant chez un patient porteur d'une hypertension artérielle pulmonaire chronique de bonne évolution après déplétion hydrosodée.\n",
      "['10']\n",
      "Dt Ne se plaint pas de douleur au rachis alors que s'en plaignait aux urgences Examen cardio-vasculaire BDC réguliers Souffle systolique aortique, non iradiant dans les carotides Pas de signe d'insuffisance cardiaque droite ou gauche Examen podo.\n",
      "['9']\n",
      "Dt Ne se plaint pas de douleur au rachis alors que s'en plaignait aux urgences BDC réguliers Souffle systolique aortique, non iradiant dans les carotides Pas de signe d'insuffisance cardiaque droite ou gauche Pas de plaie Pas de signes d'incurie MV +/+ Pas de bruits suajoutés Pas de dyspnée Abdomen souple et indolore A noté qu'elle a été sondé aux urgences pour suspicion de globe mais pas de globe\n",
      "['9']\n",
      "spontanées récidivantes et de malformations artério-veineuses hépatiques. Doppler de février 2012 : artère hépatique avec un diamètre augmenté à 7 mm, à 2 cm de l'ostium avec retentissement cardiaque à type d'insuffisance cardiaque à haut débit, HTAP à 56 mmHg, compliquée d'un épisode\n",
      "['10']\n",
      "Pas de signe d'insuffisance cardiaque droite ou gauche sauf discrète infiltration rétro malléolaire bilatérale.\n",
      "['9']\n",
      "Absence de signe d'insuffisance cardiaque. Constipation chronique.\n",
      "['9']\n",
      "Pas de signe de décompensation cardiaque. Pas de signe de TVP.\n",
      "['9']\n",
      "- Episode d'HTA maligne sur une mauvaise observance de traitement en 2013 (sténose de l'artère rénale et phéochromocytome éliminés) compliqué d'une insuffisance cardiaque aiguë. -Cardiopathe hypertensive avec HVG à predominance septale 20mm sans dilatation du VG non obstructive, FEVG 50%, pas d'ischémie mycoardique à l'écho de stress St Laurent en 2019 (Dr Bosseau).\n",
      "['10']\n",
      "- Episode d'HTA maligne sur une mauvaise observance de traitement en 2013 (sténose de l'artère rénale et phéochromocytome éliminés) compliqué d'une insuffisance cardiaque aiguë. -Cardiopathe hypertensive avec HVG à predominance septale 20mm sans dilatation du VG non obstructive, FEVG 50%, pas d'ischémie mycoardique à l'écho de stress St Laurent en 2019 (Dr Bosseau).\n",
      "['10']\n",
      "- Episode d'HTA maligne sur une mauvaise observance de traitement en 2013 (sténose de l'artère rénale et phéochromocytome éliminés) compliqué d'une insuffisance cardiaque aiguë. -Cardiopathe hypertensive avec HVG à predominance septale 20mm sans dilatation du VG non obstructive, FEVG 50%, pas d'ischémie mycoardique à l'écho de stress St Laurent en 2019 (Dr Bosseau).\n",
      "['10']\n",
      "- Episode d'HTA maligne sur une mauvaise observance de traitement en 2013 (sténose de l'artère rénale et phéochromocytome éliminés) compliqué d'une insuffisance cardiaque aiguë. -Cardiopathe hypertensive avec HVG à predominance septale 20mm sans dilatation du VG non obstructive, FEVG 50%, pas d'ischémie mycoardique à l'écho de stress St Laurent en 2019 (Dr Bosseau).\n",
      "['10']\n",
      "- Episode d'HTA maligne sur une mauvaise observance de traitement en 2013 (sténose de l'artère rénale et phéochromocytome éliminés) compliqué d'une insuffisance cardiaque aiguë. -Cardiopathe hypertensive avec HVG à predominance septale 20mm sans dilatation du VG non obstructive, FEVG 50%, pas d'ischémie mycoardique à l'écho de stress St Laurent en 2019 (Dr Bosseau).\n",
      "['10']\n",
      "- Episode d'HTA maligne sur une mauvaise observance de traitement en 2013 (sténose de l'artère rénale et phéochromocytome éliminés) compliqué d'une insuffisance cardiaque aiguë. -Cardiopathe hypertensive avec HVG à predominance septale 20mm sans dilatation du VG non obstructive, FEVG 50%, pas d'ischémie mycoardique à l'écho de stress St Laurent en 2019 (Dr Bosseau).\n",
      "['10']\n",
      "- -Choc cardiogénique dans un contexte de cardiopathie ischémique, rythmique et valvulaire -IRA/IRC sur décompensation cardiaque globale\n",
      "['10']\n",
      "général. Apyrétique. Pas d'adénopathies. Cardio : bruits du coeur réguliers, pas de souffle, pas d'insuffisance cardiaque. Pneumo : murmure vésiculaire bilatéral symétrique, pas de toux ni expectoration ni bruits surajoutés.\n",
      "['9']\n",
      "stable sans signe de décompensation cardiaque droite ou gauche, pas de signe neurologique focal, patient conscient et orienté.\n",
      "['9']\n",
      "Décompensation cardiaque à fraction d'éjection préservée chez un patient à risque cardiovasculaire élevé ayant une artériopathie oblitérante des membres inférieurs, un diabète de type 2, une HTA, une hypercholestérolémie, un tabagisme non sevré.\n",
      "['10']\n",
      "Ex. cardio vasculaire normal : oui arythmie : non, souffle : non IVD : non, IVG : non pouls périphériques : oui, Signe de phlébite : non\n",
      "['9']\n",
      "Pneumopathie bilatérale probablement à pneumocoque associée à une décompensation cardiaque d’évolution favorable avec une reprise de l’autonomie permettant un retour à domicile le 11 mars avec mise en place d’un plan d’aide au domicile.\n",
      "['10']\n",
      "On rappelle que la dernière échographie cardiaque réaliser en juin 2021 ne retrouvé pas d'insuffisance cardiaque, le doppler de la fistule réaliser en 2018 retrouve un débit satisfaisant avec une valeur aux alentours de 1,2 à 1,3 L/min.\n",
      "['9']\n",
      "Patient insuffisant cardiaque Marbrures\n",
      "['10']\n",
      "l'auscultation bruits du cœur réguliers, présence d'un souffle systolique au foyer aortique, absence de signe d'insuffisance cardiaque ou de thrombose veineuse profonde, pouls périphériques perçus.\n",
      "['9']\n",
      "Examen cardio : bdc réguliers, absence de souffle audible, pas de signes d'ICG ni ICDte Examen pulm : MV+/+, pas de BSA\n",
      "['9']\n",
      "Au total, il n'y a pas d'argument aujourd'hui en faveur d'une insuffisance cardiaque qui est bien en accord avec le dosage\n",
      "['9']\n",
      "Décompensation de BPCO modérée associée avec quelques sibilants à l'auscultation. Pas d'argument pour une décompensation cardiaque. --> Poursuite de l'antibiothérapie par amoxicilline, si l'évolution n'est pas favorable effectuer un relais par Augmentin. --> Poursuite du Xarelto en surveillant régulièrement l'évolution clinique et l'hémoglobine. --> Aérosols Bricanyl/Atrovent, surveillance respiratoire.\n",
      "['9']\n",
      "Ne conduit plus. Décrit son état de santé comme bon, dit être très heureux dans sa vie Mardi dernier a glissé sur son tapis et s'est cogné le haut du tibia droit contre une table basse, entrainant une plaie et un hématome. Jambe droite douloureuse environ 2j après. Cliniquement ce matin: grosse jambe rouge droite aigue sur fond d'OMI (cardiaque + insuff veineuse probable), douloureuse, pas de crépitations sous-cutanées Bruits du coeur irréguliers, auscultation pulmonaire retrouve des discrets ronchis en fin d'expiration. A uriné environ 2-3L\n",
      "['10']\n",
      "Décompensation de BPCO modérée associée avec quelques sibilants à l'auscultation. Pas d'argument pour une décompensation cardiaque. --> Poursuite de l'antibiothérapie par amoxicilline, si l'évolution n'est pas favorable effectuer un relais par Augmentin. --> Poursuite du Xarelto en surveillant régulièrement l'évolution clinique et l'hémoglobine. --> Aérosols Bricanyl/Atrovent, surveillance respiratoire.\n",
      "['9']\n",
      "Cliniquement, les bruits du cœur sont réguliers avec un souffle systolique 1/6ème et diastolique 1/6ème au foyer aortique. On note des signes d’insuffisance cardiaque gauche avec des crépitants jusqu’à tiers champs avec une respiration sifflante sans signe d’insuffisance cardiaque droite. La loge du pacemaker est propre.\n",
      "['10']\n",
      "stable BDC irréguliers, souffle systolique maximum au foyer aortique irrandiant dans les carotides, abolition du B2 Pas de signes d'IC, sans TJ, sans RHJ, pouls fémoraux, radiaux et pédieux perçus Murmures vésiculaires bilatéraux présents sans BSA\n",
      "['9']\n",
      "stable BDC irréguliers, souffle systolique maximum au foyer aortique irrandiant dans les carotides, abolition du B2 Pas de signes d'IC, sans TJ, sans RHJ, pouls fémoraux, radiaux et pédieux perçus Murmures vésiculaires bilatéraux présents sans BSA\n",
      "['9']\n",
      "Exam abdouro = abdo souple, pas de defense, pas de contracture, douleur a la palpation de l ombilic douleur spontanée de la fosse iliaque gauche. EVA 3 Pas de troubles du transit BHA + oligurique exam cardiovasc = BDC irreguliers tachycarde a 120 pas de souffle percu pas de signes d'ICD ni ICG insuffisance veineuse bilatérale sans oedeme exam pulm = MV bilatéral symetrique pas de bruit surajouté pas de foyer a l'auscultation pas de signe fonctionnel\n",
      "['9']\n",
      "TA=17/8 pas de marbrures, diurèse conservée examen dig: pas de troubles du transit ventre légèrement sensible en FIG pas de défense, pas de masse palpée BHA + TR: sang++, pas de selles ampoule rectale vide pas d'hémorroides extériorisées examen cardiopulm: pas de dyspnée, bdc réguliers pas de souffle entendu pas de signes d'IC MV bilatéral, symétrique\n",
      "['9']\n",
      "INDICATION / QUESTION POSEE / COTE A EXPLORER SUSPICION GOUTTE Antécédents HTA DID et Dyslipidémie depuis les années 70 FA IC à volume d'éjection préservé SUSPICION GOUTTE HTA DID et Dyslipidémie depuis les années 70 FA IC à volume d'éjection préservé\n",
      "['10']\n",
      "- [CP_PATIENT] [VILLE_PATIENT] Rennes, le jeudi 10 mars 2022 Réf FP/LLP DA 5987 Docteur, J'ai vu à la consultation de facteurs de risque le 09/03/2022 Mr [PRENOM_PATIENT] [NOM_PATIENT] né le [JJ]/[MM]/1942 dans le cadre du suivi de son insuffisance cardiaque.\n",
      "['10']\n",
      "Hyponatremie profonde.Décompensation cardiaque globale.\n",
      "['10']\n",
      "Charlotte à 03/12/2019 03:27) : Mode de vie Veuf, un fils habite chez lui Pas de passage aide ménagère ni IDE, autonome Pas de tabac, OH= un verre de vin rouge par jour Texte libre Cardio: bruits du cœur régulier, pas de souffles, pas de douleur thoracique, pouls périphériques perçus, pas de signe d'insuffisance cardique, mollets souples et indolores Pneumo: MV +/+ sans BSA, pas de toux, Eupnéique en air ambiant Digestif: abdomen souple dépressible indolore, tendance constipation, pas de nausées/vomissements, BHA+\n",
      "['9']\n",
      "décompensation cardiaque majeure avec une FEVG à 17% sur RAC serré.\n",
      "['10']\n",
      "Décompensation cardiaque, insuffisance rénale, déglobulisation sur œsophagite sévère post opératoire.\n",
      "['10']\n",
      "PATHOLOGIES APPAREIL CIRCULATOIRE insuffisance cardiaque\n",
      "['10']\n",
      "Il n'y a aucun signe d'insuffisance cardiaque périphérique.\n",
      "['9']\n",
      "Il a développé progressivement un syndrome d'insuffisance cardiaque avec une dyspnée d'effort classe fonctionnelle II fort de la NYHA, mais n'a pas réellement de signes d'insuffisance cardiaque congestive à l'examen physique ce jour.\n",
      "['10']\n",
      "Décompensation cardiaque à répétition, au total huit épisodes. HTA Hémibloc postérieur gauche, onde T négatives en inférieur\n",
      "['10']\n",
      "Ex. cardio vasculaire normal : non arythmie : oui, souffle : non IVD : non, IVG : non Signe de phlébite : non\n",
      "['9']\n",
      "Auscultation cardio pulmonaire est sans particularité, pas de signe d'insuffisance cardiaque.\n",
      "['9']\n",
      "- A l'entrée dans le service : Poids à l'entrée : 83 Kg Examen clinique : Apyrétique, bon état général, pas de douleur, eupnéique en air ambiant Pas de signe fonctionnel cardiologique, bruits du cœur réguliers, souffle d'insuffisance aortique 3/6 irradiant dans les carotides, mollets souples et indolores, pas de signes d'insuffisance cardiaque droite ou gauche, pouls perçus aux 4 membres.\n",
      "['9']\n",
      "Sur le plan cardiologique : Pas de signe de décompensation cardiaque globale à l'examen.\n",
      "['9']\n",
      "Analyse urgentiste Irrégulier, normocarde 66bpm, trémulation de la ligne iso électrique, axe normal, HVG, ondes T neg en V5, V6 DIAGNOSTICS (03/12/2020 09:38 LS Louis SOULAT) CCMU: III: Etat pouvant s'aggraver au S.U. sans mise en jeu pronostic vital Diagnostic principal SAU: I50.0 / Insuffisance cardiaque congestive (droite/globale))\n",
      "['10']\n",
      "décompensation cardiaque globale sévère sur flutter atrial rapide.\n",
      "['10']\n",
      "Elle se présente dans un tableau de décompensation cardiaque globale avec crépitants et sibilants pulmonaires associés à des œdèmes des membres inférieurs diffus et un reflux hépatojugulaire.\n",
      "['10']\n",
      "- pas de SF cardio, pas de signes IC auscultation : bdc réguliers, env 7/min sans bruit surajouté\n",
      "['9']\n",
      "à l’hôpital de St Malo en décompensation cardiaque et en fibrillation atriale.\n",
      "['10']\n",
      "Pas de signe de décompensation cardiaque droite ou gauche.\n",
      "['9']\n",
      "- Décompensation cardiaque en janvier 2009\n",
      "['10']\n",
      "- Décompensation cardiaque en janvier 2009\n",
      "['10']\n",
      "Ce jour, l'examen clinique est toujours normal, les bruits du c�ur sont réguliers, pas de souffle, pas de frottement, pas de signe d'insuffisance cardiaque droite comme gauche.\n",
      "['9']\n",
      "régumier sans souffle pas de signes de décompensation cardiaque droite ou gauche CONSTANTE (28/05/2014 17:04 SR Solenn RENARD-FRESSIER) 28/05/2014 17:04 28/05/2014 15:28 28/05/2014 15:22 28/05/2014 11:16 Surveillances PA Syst. (mmHg) PA Diast. (mmHg) PA Moy. (mmHg) FC (/mn) Temp (°C)\n",
      "['9']\n",
      "- Pas de douleur thoracique, pas de dyspnée, pas de signe d'insuffisance cardiaque ou de phlébite.\n",
      "['9']\n",
      "Cardiologie : Pas de douleur thoracique, pas de palpitation. Bruits du cœur réguliers. Souffle systolique non connu. Pas de décompensation cardiaque.\n",
      "['9']\n",
      "régulier sans souffle mais difficilement auddibles. Pas de signes d'insuffisance cardiaque droite ni gauche.\n",
      "['9']\n",
      "régulier sans souffle mais difficilement auddibles. Pas de signes d'insuffisance cardiaque droite ni gauche.\n",
      "['9']\n",
      "dans le service du 06/08/2014 au 11/08/2014 pour une décompensation cardiaque globale sur cardiomyopathie ischémique sévère sans argument pour une ischémie aiguë.\n",
      "['10']\n",
      "L’examen clinique retrouve une tension artérielle à 12/7, les bruits du cœur sont réguliers, sans souffle, sans signe d’insuffisance cardiaque droite ou gauche.\n",
      "['9']\n",
      "Pas de signe d'insuffisance cardiaque droite ni gauche.\n",
      "['9']\n",
      "- cardiopathie hypertensive : FEVG à 40%, PAPs à 41 mmHg, BNP 8000\n",
      "['10']\n",
      "- Décompensation cardiaque en 1999 nécessitant une intubation oro-trachéale et un séjour en réanimation à\n",
      "['10']\n",
      "- Décompensation cardiaque en 1999 nécessitant une intubation oro-trachéale et un séjour en réanimation à\n",
      "['10']\n",
      "Alors que Mr [NOM_PATIENT] a toujours été pauci voire asymptomatique, la fonction contractile ventriculaire gauche diminue au fil du temps, avec une aggravation plus importante depuis l'épisode de myocardite de 2007 (2003 : FEVG 55%, 2004 : FEVG 50%, 2007 : FEVG 35%, Juillet 2008 : FEVG 30-35%).\n",
      "['10']\n",
      "En revanche, force est de constater la poursuite de la dégradation de la contractilité ventriculaire gauche puisque lors de l'échocardiographie de repos (Dr Lelong) la fonction systolique VG paraît très altérée (FEVG = 20-25%), de même que la fonction diastolique ventriculaire gauche (flux mitral pseudo-normal) mais sans élévation des pressions de remplissage, la cavité VG est moyennement dilatée avec un septum et une paroi postérieure d'épaisseur normale, le ventricule droit est également modérément dilaté mais avec une fonction systolique VD normale, pas de dilatation atriale, minime fuite mitrale, minime fuite tricuspide, pression AP probablement normale, débit cardiaque abaissé à 3,9l/mn (calculé avec un diamètre de chambre de chasse à 23mm).\n",
      "['10']\n",
      "Cette dysfonction systolique ventriculaire gauche sur cette cardiomyopathie dilatée d'origine familiale expose Mr [NOM_PATIENT] à un double risque : tout d'abord le risque d'insuffisance cardiaque qui pour l'instant est contrôlé par le traitement médical, mais surtout le risque de mort subite par trouble du rythme ventriculaire que l'on considère important lors de dysfonction ventriculaire inférieure à 30%.\n",
      "['10']\n",
      "Persisitance d'une ataxie cérébelleuse (marche avec une canne) sans dysmétrie. Bruits du coeur réguliers. Pas de signe d'insuffisance cardiaque. Examens complémentaires :\n",
      "['9']\n",
      "Persisitance d'une ataxie cérébelleuse (marche avec une canne) sans dysmétrie. Bruits du coeur réguliers. Pas de signe d'insuffisance cardiaque. Examens complémentaires :\n",
      "['9']\n",
      "15:32) : Texte libre Cardio: BDC réguliers, pas de souffle, pas de frottement pas de signes d'IVD ni IVG Pneumo: MV symetrique, pas de rales, pas de frottement Abdo: souple et indolore BHA+\n",
      "['9']\n",
      "Examens complémentaires à l'entrée ECG RSR QRS fin ST + inferieur bdc regulier sans souffle pas de signe d'IVG/IVD pouls periph perçus 4 mbs pas de souffle vasculaire peripherique pas de signe de MTEV ECG SCA ST+ Type de symptômes\n",
      "['9']\n",
      "PA systolique (mmHg) ( SNOMED 3.5 ) 124 PA diastolique (mmHg) ( SNOMED 3.5 ) 69 Fréquence cardiaque ( SNOMED 3.5 ) ( SNOMED 2 ) 55 ECG rythme sinusal régulier, qrs fins normoaxés, absence de troubles de la repolarisation Examen clinique Bruits du coeur réguliers sans bruits sur ajoutés IVG = 0 IVD = 0 rythme sinusal régulier, qrs fins normoaxés, absence de troubles de la repolarisation Bruits du coeur réguliers sans bruits sur ajoutés IVG = 0 IVD = 0 Evolution pendant le séjour 13/09/2021 11:50\n",
      "['9']\n",
      "décompensation cardiaque traitée médicalement.\n",
      "['10']\n",
      "Pas d'hypothermie examen cardio: -pas de douleur thoracique, dyspnée, palpitations, syncope -bruits du coeur réguliers -pas de souffle cardiaque ou carotidien -pas de signes d'IC -pas de signes de TVP -pouls perçus et symétriques (sauf les pédieux) examen pneumo: -auscultation pulmonaire libre examen abdo: -pas de nausées/vomissements -abdomen souple et indolore -BHA présents -pas d'hépatosplénomégalie examen cutanée: -pas d'ecchymoses/hémtaome -pas de marbrures -dermite ocre des membres inférieurs: IVC des 2membres\n",
      "['9']\n",
      "On retient le diagnostic de pneumopathie aiguë communautaire de base droite associée à une décompensation cardiaque globale.\n",
      "['10']\n",
      "Décompensation cardiaque globale concomitante.\n",
      "['10']\n",
      "perçu de manière bilatérale et symétrique diminué avec quelques ronchi. Pas de signe d'insuffisance cardiaque droite ni gauche.\n",
      "['9']\n",
      "100/56 FC 77 temp 37.4 sat 97aa Gly 1.44 OH neg sur le plan neuro G14 (Y3V5M6), somnolent, asthénique ++ pas de céphalée pupilles en myosis réactives pas de trouble oculomoteur PF d'allure centrale à G pas de déficit sensitif (dans les limites de l'examen) chute du MSG au barré 4/5 chute du mingazzani bilatéral 4/5 légères trémulations MSG ataxie non évaluable sur le plan cardio pneumo bdc réguliers, souffle aortique sans abolition du B2 pas de signe d'IC pas de signe de choc auscultation pulmonaire claire et symétrique pas de foyer eupnéique en AA sur le plan abdo souple dépressible indolore BHA + pas de trouble du transit >> bilan bio devant AEG >> KT posé >> protocole prévention sevrage\n",
      "['9']\n",
      "Diagnostic principal SAU: I50.9 / Insuffisance cardiaque, SP Majoration lasilix, RAD contrôle bio lundi SOINS INFIRMIERS (10/08/2018 21:41 AP Aline PENIGUET)\n",
      "['10']\n",
      "16/02/2010 05:13) : Texte libre patient en bon état général ORL epistaxis tari par compression manuelle par le patient lui meme pas de saignement posterieur CARDIO bdc reguliers pas de souffle percu pas de signe de phlébite pas de signe d'ICD, ni d'ICG PNEUMO douleur=0, dyspnée=0, toux=0 MV+/+ pas de BSA CONSTANTE (16/02 07:29 KL Karen LEROUZES )\n",
      "['9']\n",
      "- Cliniquement : discours non cohérent, désorientation spatio-temporelle, douloureux à la mobilisation. Membre inférieur droit en rotation externe, adduction et raccourcissement. Souffle systolique, pas de signe d'insuffisance cardiaque.\n",
      "['9']\n",
      "physique ne retrouve pas de signe d'insuffisance cardiaque.\n",
      "['9']\n",
      "Dans le même temps sont découvertes une hypertension artérielle sévère, une cardiomyopathie dilatée avec fraction d'éjection à 30 %.\n",
      "['10']\n",
      "décompensation cardiaque à\n",
      "['10']\n",
      "décompensation cardiaque à\n",
      "['10']\n",
      "I50.1 / OAP avec Insuffisance cardiaque gauche Patiente de 71 ans adressée pour dyspnée à la marche depuis hier ATCD : IRC sevère protéinurie, double étiologie: HNF et vasculaire, suivi à ponchaillou, Cardiopathie hypertrophique, FEVG 60% dialyses par semaine, sténose des TSA, avril 2019: IDM, pose 3 stents sur l'IVA, Juin 2019: pose pacemaker A l'examen : gsg 15, cohérent et consciente, pas de signe de lutte respiratoire, pas de crépitants des bases, OMI, pas de douleur thoracique, pas de palpitation ECG : electroentrainé Radio : en faveur d'un OAP Bio : NTpro BNP : 2758 CAT : RAD avec introduction Lasilix 40 mg matin et soir avec réévaluation MT dans jours, explication des consignes amenant à reconsulter PRESCRIPTION DES TRAITEMENTS Prescriptions hospitalières: Statut Voie Livret Prescription\n",
      "['10']\n",
      "PLÉTHYSMO + TCO de Madame [NOM_PATIENT] [PRENOM_PATIENT], Née le [JJ]/[MM]/1947 (68 ans) Examen réalisé le 25/05/2016 INDICATION : Bilan dans le cadre d'une insuffisance cardiaque.\n",
      "['10']\n",
      "Tachycardie régulière Pas de signe IVD, IVG Pouls présents Diminution du ballant du mollet gauche avec douleur à la palpation, pas de signe de Homans.\n",
      "['9']\n",
      "douleur epigastrique a type de crampe, d'evolution fluctuante depuis 3 jours neuro: GCS 15, examen neuro strictement normal cardio: pas de dlr tho, pas signe insuff cardiaque droite ou gauche pneumo: toux seche depuis 3 jour, ausculation normale abdo: douleur epigastrique fluctuante, abdo souple, pas de reproduction de la douleur à la palpation pas de diarrhée ou constipation, pas de SFU cut/art: normal ORL: depot blanchatre oropharynx (mycose) CONSTANTE (08/11/2014 21:55 NG Nathalie GAONACH) 08/11/2014 21:55 08/11/2014 21:09 08/11/2014 19:31 Surveillances Integrité bracelet PA Syst. (mmHg) PA Diast. (mmHg) PA Moy. (mmHg) FC (/mn) Temp (°C)\n",
      "['9']\n",
      "décompensation cardiaque globale.\n",
      "['10']\n",
      "L’hospitalisation a été principalement marquée par un OAP hypoxémiant avec troubles de la conscience possiblement favorisés par un passage en fibrillation auriculaire rapide.\n",
      "['10']\n",
      "Les signes d'insuffisance cardiaque congestive se sont nettement majorés depuis le début du mois, semble t-il dans les suites d'une bronchite.\n",
      "['10']\n",
      "Pour ce qui est de l'insuffisance cardiaque je ne vois malheureusement pas d'autre solution que d'augmenter la posologie de Furosémide. J'ai conseillé à Mme [NOM_PATIENT] une dose de 80 mg le matin et de 40 mg le midi, à adapter. Je lui ai aussi conseillé de réduire la posologie de\n",
      "['10']\n",
      "te hypospadias anevrisme aorte abdo 38 mm 2010 PM sur BAV 3 paroxystique (avK) glomerulonephrite extra membraneuse et néphrangiosclérose avec ins renale chr sous un alpha cardiopathie hypokinetique FEVG 30% tabac sevré OBSERVATION STANDARD ADULTE (19/05/2013 20:12 vivier antoine) Observation standard adulte (vivier antoine à 19/05/2013 20:12) : Texte libre donc tableau Décomp Cardio sans étiologie type surinfection bronchique dyspnée et OMI depuis 24h terrain lourd++ K vessie dg 04/2013, K prostate, IRA chronique sur GEM et HTA (cl=20 ml/min), cardiopathie avec FEVG 30%, BAV3 et FA connue sous avk et PM, lasilix 200 long cours... enalapril en attente depuis sortie de cardio en 03/2012 pour DC avec IRA sur IRC apyrexie signe droits+ et gauche avec crépitants mi champ sans foyer ni sibilants reste clinique normale, abdo tendu mais indolore, mollets souples, pas de SFU, marbrures a minima mais hdnq normale, purpura pétéchial racine cuisse droit connu neuro= RAS --> lasilix 80 IVD puis 250 IVSE, RP et bio, revoir pour augmentin mais a priori DC isolée CONSTANTE (20/05 00:51 F frigout) 20/05/2013\n",
      "['10']\n",
      "régulier sans souffle perçu Pas insuffisance droite ou gauche Pouls périphérique perçu Examen pleuro-pulm MV +/+\n",
      "['9']\n",
      "Il n'y a pas de signe d'insuffisance cardiaque droite ou gauche.\n",
      "['9']\n",
      "Cirrhose alcoolique non sevrée et non suivie depuis 2009, connue depuis 1990, déjà contre-indiqué en 2009 pour une FOGD pour une insuffisance ventriculaire gauche\n",
      "['10']\n",
      "Il n'existe pas de signe de décompensation cardiaque.\n",
      "['9']\n",
      "BPCO Alcool Insuffisance cardiaque\n",
      "['10']\n",
      "Sur le plan thérapeutique, Madame [NOM_PATIENT] sort donc avec son traitement habituel, auquel nous ajoutons de la Coumadine à 4 mg le soir, ainsi que du Lasilix 40 mg par jour devant les signes d’insuffisance cardiaque gauche.\n",
      "['10']\n",
      "TA 122/61, PAM 77 FC 67 Sat 99% en AA T° 37° NEURO: G7 Y2 M4 V1 obnubilation pupilles symétriques et réactives, pas de mydriase pas de signe de focalisation asterixis non testable réflexe toux conservé PULM: encombrement bronchique, toux ++ inefficace, pas de crachats, pas de signe de lutte pas de signe de TVP CARDIO: BDC réguliers, pas signe IC ABDO: hernie ombilicale, pas de masse palpée, pas de globe\n",
      "['9']\n",
      "Il présente par ailleurs une insuffisance cardiaque globale connue sur une cardiopathie ischémique. Pas de signes de pneumopathie infectieuse.\n",
      "['10']\n",
      "Contexte de dyspnée habituelle NYHA 3 et d'insuffisance cardiaque Passage aux urgences en septembre 2020 pour motif identique mais accompagné d'une confusion > Angioscanner : pas d'anomalie > Rx : épanchement pleural bilatéral connu et stable par rapport à 2019 > BNP augmenté à 8000 (9000 en 2019) => RAD devant amélioration de la symptomatologie avec furosémide 5j ECG de 2018 (dernier trouvé) : rythme irrégulier, trémulation de la ligne de base, QRS fins, axe normal, HVG avec V1+V5= 40mm onde P neg en V4, V5, V6, sous décalage en V4 V5 ACFA connue sous AVK trouble de la repolarisation déjà présent dans les ECG antérieur Appel passé à la fille sur le traitement >Furosémide 500 : 1/4 le matin >Bisoce 1.25 mg : 1 par jour >Eliquis 2.5 mg: 2 par jour >Levothyrox >Atorvastatine 20 mg : 1 par jour OBSERVATION STANDARD ADULTE (02/12/2020 20:51 MERDRIGNAC Solène) Observation standard adulte (MERDRIGNAC Solène à\n",
      "['10']\n",
      "Dyspnée d'apparition brutale ce matin chez un patient avec FA connue et insuffisance cardiaque (lasilix 125mg/j) Cliniquement: signe d'insuffisance cardiaque avec sibilant diffus, TJ, RHJ pro-BNP 7000 Soulagé par 40mg de lasilix + aérosols, pas d'oxygénorequérence Hospitalisation en cardiologie pour refaire le point sur la PEC cardio (2ème passage aux urgences pour le même motif en 2 mois) > Traitement à vérifier PRESCRIPTION DES TRAITEMENTS Prescriptions hospitalières: Statut Voie Livret Prescription\n",
      "['10']\n",
      "Conclusion : Cliniquement: signe d'insuffisance cardiaque avec sibilant diffus, TJ, RHJ pro-BNP 7000 Soulagé par 40mg de lasilix + aérosols, pas d'oxygénorequérence Hospitalisation en cardiologie pour refaire le point sur la PEC cardio (2ème passage aux urgences pour le même motif en 2 mois) > Traitement à vérifier ATTENTION : le texte saisi dans la conclusion senior est transmis au médecin traitant par messagerie sécurisée;\n",
      "['10']\n",
      "- insuffisance cardiaque par cardiopathie hypertensive.\n",
      "['10']\n",
      "- insuffisance cardiaque par cardiopathie hypertensive.\n",
      "['10']\n",
      "-> Sur le plan cardio: pas de signe de décompensation cardiaque mis à part dyspnée\n",
      "['9']\n",
      "Les bruits du coeur sont réguliers sans souffle surajouté, sans signe de décompensation cardiaque. Pas de souffle carotidien.\n",
      "['9']\n",
      "- insuffisance cardiaque (cardiopathie hypertensive)\n",
      "['10']\n",
      "- BDC réguliers / normocarde à 60 bpm / souffle systolique doux en foyer aortique et tricuspidien non irradiant aux carotides / pas de DT / pas de palpitations / pas de dyspnée / syncopes à l'emporte pièce (x 3 en quelques mois) / pas de signe d'ICG / pas de signe d'ICD pneumo :\n",
      "['9']\n",
      "Sur le plan cardio : réguliers sans souffle, pas de de signes d'IC. Sur le plan pneumo : sibilants diffus aux deux temps bilatéraux. et ronchis expiratoires. SpO2 à 99% hier sous 2L, passage sous 1L ce matin avec une SpO2 à 97 % Sur le plan bio : Pas de troubles hydroéléctrolytiques, Hb en légere baisse à 11.4g/dl à surveiller.\n",
      "['9']\n",
      "Sur le plan cardio : réguliers sans souffle, pas de de signes d'IC. Sur le plan pneumo : sibilants diffus aux deux temps bilatéraux. et ronchis expiratoires. SpO2 à 99% hier sous 2L, passage sous 1L ce matin avec une SpO2 à 97 % Sur le plan bio : Pas de troubles hydroéléctrolytiques, Hb en légere baisse à 11.4g/dl à surveiller.\n",
      "['9']\n",
      "- Sur le plan cardio-vasculaire : absence d’angor, bruits du cœur réguliers, absence de souffle cardiaque, absence de signe d’insuffisance cardiaque, absence de claudication, absence de souffle sur les trajets vasculaires, pouls périphériques tous perçus.\n",
      "['9']\n",
      "Pas d'autres plaintes, faciès non douloureux. Examen clinique stable : -bdc réguliers, assourdis, pas de souffle perçu, mollet souple et indolore, pas de signe d'IC\n",
      "['9']\n",
      "Pas d'autres plaintes, faciès non douloureux. Examen clinique stable : -bdc réguliers, assourdis, pas de souffle perçu, mollet souple et indolore, pas de signe d'IC\n",
      "['9']\n",
      "Décompensation cardiaque globale modérée sur SCA ST- et FA rapide Depuis 3-4 jours douleur thoracique\n",
      "['10']\n",
      "- Insuffisance cardiaque depuis 2009 ETT: 27/06/2008: FEVG 65%, HVG concentrique, pas de trouble de la cinétique segmentaire\n",
      "['10']\n",
      "- Insuffisance cardiaque depuis 2009 ETT: 27/06/2008: FEVG 65%, HVG concentrique, pas de trouble de la cinétique segmentaire\n",
      "['10']\n",
      "Décompensation cardiaque post TIPS en\n",
      "['10']\n",
      "Décompensation cardiaque post TIPS en\n",
      "['10']\n",
      "Décompensation cardiaque post TIPS en\n",
      "['10']\n",
      "Décompensation cardiaque post TIPS en\n",
      "['10']\n",
      "Décompensation cardiaque post TIPS en\n",
      "['10']\n",
      "- ETT VD non dilaté et normokinétque, FEVG préservée sans trouble de la cinétique segmentaire IT modérée dans ce contexte de décompensa 5;on cardiaque avec pressions de remplissage élevées;\n",
      "['10']\n",
      "décompensation cardiaque post TIPS.\n",
      "['10']\n",
      "décompensation cardiaque post TIPS.\n",
      "['10']\n",
      "Pas de signe d'insuffisance cardiaque droite ou gauche.\n",
      "['9']\n",
      "Pas de signe d'insuffisance cardiaque droite ou gauche.\n",
      "['9']\n",
      "Ex. cardio vasculaire normal : oui arythmie : non, souffle : non IVD : non, IVG : non pouls périphériques : oui, Signe de phlébite : non\n",
      "['9']\n",
      "décompensation cardiaque chez nouz\n",
      "['10']\n",
      "l'auscultation bruits du coeur réguliers sans souffle sans signe d'insuffisance cardiaque droite ou gauche mollets souples indolores\n",
      "['9']\n",
      "- cardiopathie hypertensive : FEVG à 40%, PAPs à 41 mmHg, BNP 8000\n",
      "['10']\n",
      "- cardiopathie hypertensive : FEVG à 40%, PAPs à 41 mmHg, BNP 8000\n",
      "['10']\n",
      "- Cardiopathie ischémique sur IDM inférieur en 2000 compliqué d'un BAV3 appareillé (PM puis DAI puis stimulateur atrio-ventriculaire fin 2012) et d'une insuffisance cardiaque chronique, suivi cardio en ville, derniere ETT en février 2018 FEVG a 45%, avec changement du PM à 2 reprises pour des endocardites (1ère endocardite sur sonde en 2008 avec ablation du pace-maker et post d'un DAI atrio-biventriculaire, cultures positives à staphylococcus épidermidis, 2ème endocardite sur sonde à l'étage atriale en octobre 2012 avec ablation du DAI et réimplantation contro-latérale, cultures positives à propionibacterium acnes.)\n",
      "['10']\n",
      "- SAOS + participation centrale sur insuffisance cardiaque, en refus d'appareillement (Cs Pr. DESRUES 2017)\n",
      "['10']\n",
      "- SAOS + participation centrale sur insuffisance cardiaque, en refus d'appareillement (Cs Pr. DESRUES 2017)\n",
      "['10']\n",
      "- SAOS + participation centrale sur insuffisance cardiaque, en refus d'appareillement (Cs Pr. DESRUES 2017)\n",
      "['10']\n",
      "- Cardiopathie ischémique sur IDM inférieur en 2000 compliqué d'un BAV3 appareillé (PM puis DAI puis stimulateur atrio-ventriculaire fin 2012) et d'une insuffisance cardiaque chronique, suivi cardio en ville, derniere ETT en février 2018 FEVG a 45%, avec changement du PM à 2 reprises pour des endocardites (1ère endocardite sur sonde en 2008 avec ablation du pace-maker et post d'un DAI atrio-biventriculaire, cultures positives à staphylococcus épidermidis, 2ème endocardite sur sonde à l'étage atriale en octobre 2012 avec ablation du DAI et réimplantation contro-latérale, cultures positives à propionibacterium acnes.)\n",
      "['10']\n",
      "- SAOS + participation centrale sur insuffisance cardiaque, en refus d'appareillement (Cs Pr. DESRUES 2017)\n",
      "['10']\n",
      "Pas de signes d'insuffisance cardiaque CONSTANTE (10/01 14:24 GL gillon lea) 10/01/2014 14:24 10/01/2014 12:10 10/01/2014 10:48 10/01/2014 10:19 10/01/2014\n",
      "['9']\n",
      "- insuffisance cardiaque par cardiopathie hypertensive.\n",
      "['10']\n",
      "- insuffisance respiratoire chronique restrictive\n",
      "['10']\n",
      "Les bruits du cœur sont réguliers, plutôt rapides, sans signe de décompensation cardiaque gauche ni droite.\n",
      "['9']\n",
      "Le NT pro BNP 1098 pg/ml -L'échocardiographie retrouve un ventricule gauche peu dilaté avec une séquelle d'infarctus inférieure et inféro-latérale, la fraction d'éjection globale étant estimée à 46%.\n",
      "['10']\n",
      "Le NT pro BNP 1098 pg/ml -L'échocardiographie retrouve un ventricule gauche peu dilaté avec une séquelle d'infarctus inférieure et inféro-latérale, la fraction d'éjection globale étant estimée à 46%.\n",
      "['10']\n",
      "épisodes de dyspnée transitoire tassements vertébraux FA Insuffisance cardiaque découvert en février 2018 suivi par Dr LE GAC.\n",
      "['10']\n",
      "Avis gastro : Rechercher pathologie cardiaque, la cytolyse en ALAT à 10N rentrant plutot dans ce tableau Pas d'indication à une hospitalisation en hepato --> NT-pro BNP ajoutés mais aucun signes d'insuffisance cardiaque Demande de controle bio en ville +/- TDM abdo complémentaire pour éliminer un pb hépatio\n",
      "['9']\n",
      "- Insuffisance cardiaque aigue quand ?\n",
      "['10']\n",
      "- Insuffisance cardiaque aigue quand ?\n",
      "['10']\n",
      "- Insuffisance cardiaque aigue quand ?\n",
      "['10']\n",
      "Pas de plainte douloureuse du MI droit ce jour Rest de l'examen stable par rapport à hier MVBS sans BSA BDC reguliers pas de souffle perçu pas de signes d'IC Abdo SDI urines claires dans poche de recuil 17/10/2022 12:34\n",
      "['9']\n",
      "La cause de cette décompensation sévère est probablement un passage en fibrillation atriale, dont j'ignore la date de survenue.\n",
      "['10']\n",
      "Bilan en Unité de soins intensif de cardiologie (hospit du 23 au 30 avril 2013): 1 coronarographie: lésion monotronculaire avec occlusion de l'artère coronaire distale droite avec succès primaire de reperfusion de l'artère coronaire droite distale avec thromectomie seule 2 ETO : pas de thrombus, pas d'anomalie SIA, pas de plaque aortique 3 echodoppler TSA normale 4 bilan de thrombophilie en attente Oui pas de SF cardiovasc: pas de douleur thoracique , BDC irrégulier (aryhmie sinusale à l'ECG), pas de décompensation cardiaque droite ou gauche, mollets souples, pouls périphériques peçus pas de souffle sur trajet artériel pas de sibillant dans les 2 CP neuro : hémiparésie Gauche maximale au niveau du membre supérieur, légère asymétrie céphalique, force de préhension coté à 1 pourla main à 2 pour le reste du membre supérieur, FM cotée à 4 au niveau du MI distal à 3 + au niveau proximal. abdomen souple non douloureux.\n",
      "['9']\n",
      "Je vois en hôpital de jour d'oncologie Monsieur Gallé pour la réalisation de C4 J8 Carboplatine Gemzar. Depuis la semaine dernière, pas de signe infectieux intercurrent bonne tolérance de la chimiothérapie, pas de nausée ni de vomissement, pas de trouble du transit PS 1, poids stable pas de douleur DONNEES CLINIQUES Bruits du cœur sont réguliers, pas de signe d'insuffisance cardiaque ni de TVP murmure vésiculaire symétrique, pas de bruit surajouté abdomen souple, dépressible et indolore, bruits hydroaériques\n",
      "['9']\n",
      "Abdo : EVA ressenti à 8/10 souple, dépressible, indolore, douleurs à la percussion de la fosse lombaire gauche, pas de SFU, pas d'irradiation de la douleur. Pas de syndrome occlusif : BHA ++, pas de nausée, aps de vomissement, constipation isolée Cardio : bdc régulier, absence de souffle, absence de signe droit ou gauche, absence de signe de TVP Pneumo : MV bilat et symétrique, absence de bruit surajouté\n",
      "['9']\n",
      "CLINIQUE neuro: Glasgow 15 légèrement obnubilé et désorienté syndrome pyramidal total de l'hémicorps G avec paralysie faciale homolatérale cardio: BDC réguliers sans souffle pas de signes d'insuffisance cardiaque pouls périph: radial et pédieux perçus, tibial post non perçu. pneumo: eupnéique au repos, pas de toux sat 97% sous 2l/min => diminué à\n",
      "['9']\n",
      ": BDC normaux et réguliers, pas de souffle, pas de signes d'IVD ni d'IVG, pas de signes de phlébite, pas de SF cardio\n",
      "['9']\n",
      "Sur le plan des antécédents , on retient principalement au niveau médical, une F.A. traitée par anti vitamines K, un infarctus du myocarde en Juillet 2000, une insuffisance cardiaque, une BPCO non explorée par des EFR, (tabagisme sevré à 45 paquet/année), une sciatique droite sur canal lombaire étroit et au niveau ophtalmologique, une baisse d'acuité visuelle depuis un an et une petite hémorragique\n",
      "['10']\n",
      "Diagnostic principal SAU: I50.9 / Insuffisance cardiaque, sans précision Diagnostics associés: J96.1 Insuffisance respiratoire chronique PRESCRIPTION DES TRAITEMENTS Prescriptions du service: Statut Voie Prescription\n",
      "['10']\n"
     ]
    }
   ],
   "source": [
    "for d in annotated:\n",
    "    if d['accept']:\n",
    "        print(d[\"text\"])\n",
    "        print(d[\"accept\"])"
   ]
  },
  {
   "cell_type": "code",
   "execution_count": 167,
   "id": "ac356b6b-93ba-4a9e-b878-5a8168b5f3dd",
   "metadata": {},
   "outputs": [],
   "source": [
    "decided=all67+all45+all12"
   ]
  },
  {
   "cell_type": "code",
   "execution_count": 168,
   "id": "77837773-25f5-42f9-9fae-7f85226d761a",
   "metadata": {},
   "outputs": [
    {
     "data": {
      "text/plain": [
       "1783"
      ]
     },
     "execution_count": 168,
     "metadata": {},
     "output_type": "execute_result"
    }
   ],
   "source": [
    "len(decided)"
   ]
  },
  {
   "cell_type": "code",
   "execution_count": 169,
   "id": "ad021468-ab88-473a-b34d-9d9f57b5925b",
   "metadata": {},
   "outputs": [],
   "source": [
    "allannot=lr1+lr2+lr3"
   ]
  },
  {
   "cell_type": "code",
   "execution_count": 170,
   "id": "14972815-892e-4749-b2be-f91ff1837b4f",
   "metadata": {},
   "outputs": [
    {
     "data": {
      "text/plain": [
       "12672"
      ]
     },
     "execution_count": 170,
     "metadata": {},
     "output_type": "execute_result"
    }
   ],
   "source": [
    "len(allannot)"
   ]
  },
  {
   "cell_type": "code",
   "execution_count": 263,
   "id": "3bd8d70f-addb-40b5-88bc-311c118dfab3",
   "metadata": {},
   "outputs": [],
   "source": [
    "cardia_all=lrest+decided+lr8"
   ]
  },
  {
   "cell_type": "code",
   "execution_count": 264,
   "id": "d2904fc5-7177-4e89-8177-36b27d070190",
   "metadata": {},
   "outputs": [
    {
     "data": {
      "text/plain": [
       "12316"
      ]
     },
     "execution_count": 264,
     "metadata": {},
     "output_type": "execute_result"
    }
   ],
   "source": [
    "len(cardia_all)"
   ]
  },
  {
   "cell_type": "code",
   "execution_count": 265,
   "id": "9f238299-7f7c-492b-a699-ddeac42e8165",
   "metadata": {},
   "outputs": [],
   "source": [
    "import json\n",
    "with open(\"./result/cardia_session2_corrige.jsonl\", \"w\", encoding=\"utf-8\") as output:\n",
    "    for d in allannot:\n",
    "        output.write(json.dumps(d, ensure_ascii=False).strip()+\"\\n\")"
   ]
  },
  {
   "cell_type": "code",
   "execution_count": null,
   "id": "c66af26e-7bdf-4423-86ab-396c800433ad",
   "metadata": {},
   "outputs": [],
   "source": []
  }
 ],
 "metadata": {
  "kernelspec": {
   "display_name": "NLP_ENV",
   "language": "python",
   "name": "nlp_env"
  },
  "language_info": {
   "codemirror_mode": {
    "name": "ipython",
    "version": 3
   },
   "file_extension": ".py",
   "mimetype": "text/x-python",
   "name": "python",
   "nbconvert_exporter": "python",
   "pygments_lexer": "ipython3",
   "version": "3.8.13"
  }
 },
 "nbformat": 4,
 "nbformat_minor": 5
}
